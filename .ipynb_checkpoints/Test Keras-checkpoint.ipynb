{
 "cells": [
  {
   "cell_type": "code",
   "execution_count": 2,
   "metadata": {},
   "outputs": [
    {
     "name": "stdout",
     "output_type": "stream",
     "text": [
      "Epoch 1/10\n",
      "1000/1000 [==============================] - 0s 144us/step - loss: 2.3602 - acc: 0.0990\n",
      "Epoch 2/10\n",
      "1000/1000 [==============================] - 0s 95us/step - loss: 2.3206 - acc: 0.1150\n",
      "Epoch 3/10\n",
      "1000/1000 [==============================] - 0s 86us/step - loss: 2.3051 - acc: 0.1230\n",
      "Epoch 4/10\n",
      "1000/1000 [==============================] - 0s 71us/step - loss: 2.2939 - acc: 0.1330\n",
      "Epoch 5/10\n",
      "1000/1000 [==============================] - 0s 70us/step - loss: 2.2864 - acc: 0.1280\n",
      "Epoch 6/10\n",
      "1000/1000 [==============================] - 0s 80us/step - loss: 2.2751 - acc: 0.1390\n",
      "Epoch 7/10\n",
      "1000/1000 [==============================] - 0s 78us/step - loss: 2.2671 - acc: 0.1450\n",
      "Epoch 8/10\n",
      "1000/1000 [==============================] - 0s 90us/step - loss: 2.2582 - acc: 0.1520\n",
      "Epoch 9/10\n",
      "1000/1000 [==============================] - 0s 66us/step - loss: 2.2455 - acc: 0.1760\n",
      "Epoch 10/10\n",
      "1000/1000 [==============================] - 0s 97us/step - loss: 2.2399 - acc: 0.1590\n"
     ]
    },
    {
     "data": {
      "text/plain": [
       "<keras.callbacks.History at 0x7f8bb6a55160>"
      ]
     },
     "execution_count": 2,
     "metadata": {},
     "output_type": "execute_result"
    }
   ],
   "source": [
    "from keras.models import Sequential\n",
    "from keras.layers import Dense, Activation\n",
    "from keras import utils as np_utils\n",
    "\n",
    "model = Sequential()\n",
    "model.add(Dense(32, activation='relu', input_dim=100))\n",
    "model.add(Dense(10, activation='softmax'))\n",
    "model.compile(optimizer='rmsprop',\n",
    "              loss='categorical_crossentropy',\n",
    "              metrics=['accuracy'])\n",
    "\n",
    "# Generate dummy data\n",
    "import numpy as np\n",
    "data = np.random.random((1000, 100))\n",
    "labels = np.random.randint(10, size=(1000, 1))\n",
    "\n",
    "# Convert labels to categorical one-hot encoding\n",
    "one_hot_labels = np_utils.to_categorical(labels, num_classes=10)\n",
    "\n",
    "# Train the model, iterating on the data in batches of 32 samples\n",
    "model.fit(data, one_hot_labels, epochs=10, batch_size=32)"
   ]
  },
  {
   "cell_type": "code",
   "execution_count": 9,
   "metadata": {},
   "outputs": [
    {
     "name": "stdout",
     "output_type": "stream",
     "text": [
      "(1000, 1)\n"
     ]
    }
   ],
   "source": [
    "print(labels.shape)"
   ]
  },
  {
   "cell_type": "code",
   "execution_count": null,
   "metadata": {
    "collapsed": true
   },
   "outputs": [],
   "source": [
    "score = model.evaluate(np.random.random((500, 100)), , batch_size=128)\n",
    "print(score)"
   ]
  }
 ],
 "metadata": {
  "kernelspec": {
   "display_name": "Python 3",
   "language": "python",
   "name": "python3"
  },
  "language_info": {
   "codemirror_mode": {
    "name": "ipython",
    "version": 3
   },
   "file_extension": ".py",
   "mimetype": "text/x-python",
   "name": "python",
   "nbconvert_exporter": "python",
   "pygments_lexer": "ipython3",
   "version": "3.6.2"
  }
 },
 "nbformat": 4,
 "nbformat_minor": 2
}
