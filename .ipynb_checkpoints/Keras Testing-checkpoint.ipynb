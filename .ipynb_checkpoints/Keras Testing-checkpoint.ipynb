{
 "cells": [
  {
   "cell_type": "code",
   "execution_count": 377,
   "metadata": {
    "collapsed": true
   },
   "outputs": [],
   "source": [
    "import os\n",
    "\n",
    "from python_speech_features import mfcc\n",
    "from python_speech_features import delta\n",
    "from python_speech_features import logfbank\n",
    "import scipy.io.wavfile as wav\n",
    "from random import randint\n",
    "# import librosa\n",
    "from keras.models import Sequential\n",
    "from keras.layers import Dense, Dropout, Activation, Flatten, Reshape\n",
    "from keras.layers import Convolution1D, MaxPooling1D\n",
    "from keras.utils import np_utils\n",
    "\n",
    "from matplotlib import pyplot as plt\n",
    "# import tensorflow as tf"
   ]
  },
  {
   "cell_type": "code",
   "execution_count": 401,
   "metadata": {},
   "outputs": [],
   "source": [
    "file_array = os.listdir(\"/home/rohan/BE_project/raw/enroll\");\n",
    "\n",
    "directory = os.path.join(os.getcwd(), 'raw/enroll')\n",
    "\n",
    "for file_name in file_array :\n",
    "#/home/punit/Downloads/test/{}  directory which contains raw files \n",
    "#/home/punit/Downloads/processed/{} directory which contains processed files\n",
    "#install sox before the script is run. \n",
    "#Meaning of parameters refer this article https://digitalcardboard.com/blog/2009/08/25/the-sox-of-silence/\n",
    "#     os.system(\"rm -f /home/rohan/BE_project/raw/enroll_processed/*\")\n",
    "# 0.3 -70d -1 0.1 1% - 57\n",
    "#     cmd = \"sox /home/rohan/BE_project/raw/enroll/{} /home/rohan/BE_project/raw/enroll/noise-{} trim 0 0.900\".format(file_name, file_name)\n",
    "#     os.system(cmd);\n",
    "#     cmd = \"sox /home/rohan/BE_project/raw/enroll/noise-{} -n noiseprof /home/rohan/BE_project/raw/enroll/noise-{}.prof\".format(file_name, file_name)\n",
    "#     os.system(cmd);\n",
    "#     cmd = \"sox /home/rohan/BE_project/raw/enroll/{} /home/rohan/BE_project/raw/temp/{} rate 44100\".format(file_name, file_name, file_name)\n",
    "#     os.system(cmd);\n",
    "\n",
    "    (rate,sig) = wav.read(os.path.join(directory, file_name))\n",
    "    if int(rate) > 8000:\n",
    "        cmd = \"sox /home/rohan/BE_project/raw/enroll/{} /home/rohan/BE_project/raw/enroll_processed/{} silence 1 0.3 -45d -1 0.1 1% lowpass 7000\".format(file_name, file_name)\n",
    "        os.system(cmd);\n",
    "    else:\n",
    "        cmd = \"sox /home/rohan/BE_project/raw/enroll/{} /home/rohan/BE_project/raw/enroll_processed/{} silence 1 0.3 -55d -1 0.1 1% lowpass 3500\".format(file_name, file_name)\n",
    "        os.system(cmd);\n",
    "#     cmd = \"sox /home/rohan/BE_project/raw/enroll_processed/{} /home/rohan/BE_project/raw/enroll_processed/{} lowpass 20000\".format(file_name, file_name)\n",
    "        \n",
    "    "
   ]
  },
  {
   "cell_type": "code",
   "execution_count": 402,
   "metadata": {},
   "outputs": [],
   "source": [
    "# file_array = os.listdir(\"/home/rohan/BE_project/raw/test\");\n",
    "# for file_name in file_array :\n",
    "# #/home/punit/Downloads/test/{}  directory which contains raw files \n",
    "# #/home/punit/Downloads/processed/{} directory which contains processed files\n",
    "# #install sox before the script is run. \n",
    "# #Meaning of parameters refer this article https://digitalcardboard.com/blog/2009/08/25/the-sox-of-silence/\n",
    "# #     os.system(\"rm -f /home/rohan/BE_project/raw/test_processed/*\")\n",
    "#     cmd = \"sox /home/rohan/BE_project/raw/test/{} /home/rohan/BE_project/raw/test_processed/{} silence 1 0.3 -45d -1 0.1 1% lowpass 7000\".format(file_name, file_name)\n",
    "# #     print(cmd);\n",
    "#     os.system(cmd);\n",
    "\n",
    "    \n",
    "file_array = os.listdir(\"/home/rohan/BE_project/raw/test\");\n",
    "\n",
    "directory = os.path.join(os.getcwd(), 'raw/test')\n",
    "\n",
    "for file_name in file_array :\n",
    "#/home/punit/Downloads/test/{}  directory which contains raw files \n",
    "#/home/punit/Downloads/processed/{} directory which contains processed files\n",
    "#install sox before the script is run. \n",
    "#Meaning of parameters refer this article https://digitalcardboard.com/blog/2009/08/25/the-sox-of-silence/\n",
    "#     os.system(\"rm -f /home/rohan/BE_project/raw/enroll_processed/*\")\n",
    "# 0.3 -70d -1 0.1 1% - 57\n",
    "#     cmd = \"sox /home/rohan/BE_project/raw/enroll/{} /home/rohan/BE_project/raw/enroll/noise-{} trim 0 0.900\".format(file_name, file_name)\n",
    "#     os.system(cmd);\n",
    "#     cmd = \"sox /home/rohan/BE_project/raw/enroll/noise-{} -n noiseprof /home/rohan/BE_project/raw/enroll/noise-{}.prof\".format(file_name, file_name)\n",
    "#     os.system(cmd);\n",
    "#     cmd = \"sox /home/rohan/BE_project/raw/enroll/{} /home/rohan/BE_project/raw/temp/{} rate 44100\".format(file_name, file_name, file_name)\n",
    "#     os.system(cmd);\n",
    "\n",
    "    (rate,sig) = wav.read(os.path.join(directory, file_name))\n",
    "    if int(rate) > 8000:\n",
    "        cmd = \"sox /home/rohan/BE_project/raw/test/{} /home/rohan/BE_project/raw/test_processed/{} silence 1 0.3 -45d -1 0.1 1% lowpass 7000\".format(file_name, file_name)\n",
    "        os.system(cmd);\n",
    "    else:\n",
    "        cmd = \"sox /home/rohan/BE_project/raw/test/{} /home/rohan/BE_project/raw/test_processed/{} silence 1 0.3 -55d -1 0.1 1% lowpass 3500\".format(file_name, file_name)\n",
    "        os.system(cmd);\n",
    "#     cmd = \"sox /home/rohan/BE_project/raw/enroll_processed/{} /home/rohan/BE_project/raw/enroll_processed/{} lowpass 20000\".format(file_name, file_name)\n",
    "        \n",
    "    "
   ]
  },
  {
   "cell_type": "code",
   "execution_count": 409,
   "metadata": {
    "collapsed": true
   },
   "outputs": [],
   "source": [
    "# every frame is considered independent\n",
    "\n",
    "no_of_features = 13\n",
    "no_of_fbank_features = 13\n",
    "no_of_columns = (3 * no_of_features) + no_of_fbank_features\n",
    "test_frames = 50\n",
    "classes = 10\n",
    "\n",
    "def get_feature_vectors(dataset_type):\n",
    "    \n",
    "    #set parameters for training and testing\n",
    "    if (dataset_type == \"train\"):\n",
    "#         directory = os.path.join(os.getcwd(), 'data_thuyg20_sre/enroll')\n",
    "        directory = os.path.join(os.getcwd(), 'raw/enroll_processed')\n",
    "        no_of_frames = 800\n",
    "        start_frame = 10\n",
    "    elif (dataset_type == \"test\"):    \n",
    "#         directory = os.path.join(os.getcwd(), 'data_thuyg20_sre/test')\n",
    "        directory = os.path.join(os.getcwd(), 'raw/test_processed')\n",
    "        no_of_frames = test_frames\n",
    "        start_frame = 1\n",
    "        \n",
    "    dataset = numpy.empty([0, no_of_columns + 1])\n",
    "    \n",
    "    for file in os.listdir(directory):\n",
    "        \n",
    "        # filter speakers\n",
    "        n = int(classes/2)\n",
    "#         print(n)\n",
    "        names = []\n",
    "        \n",
    "        for i in range (1, n+1):\n",
    "            names.append('F0' + '%02d'%(i))\n",
    "            names.append('M0' + '%02d'%(i))\n",
    "\n",
    "        if any(name in file for name in names):\n",
    "            \n",
    "            # extract mfcc vectors\n",
    "#             print(file)\n",
    "            (rate,sig) = wav.read(os.path.join(directory, file))\n",
    "            fbank_feat = logfbank(sig,rate)\n",
    "            mfcc_feat = mfcc(sig,rate,winlen=0.032,winstep=0.016,numcep=13,nfft=2048)\n",
    "            \n",
    "            print(\"SR :\" + str(rate) + \" \" + file)\n",
    "#             y, sr = librosa.load(os.path.join(directory, file))\n",
    "#             mfcc_feat = librosa.feature.mfcc(y=y, sr=sr, n_mfcc=13, n_fft=2048).T\n",
    "            d_mfcc_feat = delta(mfcc_feat, 2)\n",
    "            dd_mfcc_feat = delta(d_mfcc_feat, 2)\n",
    "            \n",
    "#             fbank_feat = logfbank(sig,rate)\n",
    "            mfcc_vectors = mfcc_feat[start_frame:start_frame+no_of_frames,:no_of_features]\n",
    "            dmfcc_vectors = d_mfcc_feat[start_frame:start_frame+no_of_frames,:no_of_features]\n",
    "            ddmfcc_vectors = dd_mfcc_feat[start_frame:start_frame+no_of_frames,:no_of_features]\n",
    "            fbank_vectors = fbank_feat[start_frame:start_frame+no_of_frames,:no_of_fbank_features]\n",
    "            \n",
    "            feature_vectors = numpy.hstack((mfcc_vectors, dmfcc_vectors, ddmfcc_vectors, fbank_vectors))\n",
    "#             print(feature_vectors.shape)\n",
    "            \n",
    "            # get speaker index from filename\n",
    "            speaker_index = file.split(\"_\")[0]\n",
    "            if speaker_index[0] == 'M':\n",
    "                speaker_index = n + int(speaker_index[3:])\n",
    "            else:\n",
    "                speaker_index = int(speaker_index[3:])\n",
    "\n",
    "            #append speaker index to feature vectors\n",
    "            np_speaker_index = numpy.array([speaker_index])\n",
    "            temp = numpy.tile(np_speaker_index[numpy.newaxis,:], (feature_vectors.shape[0],1))\n",
    "            concatenated_feature_vector = numpy.concatenate((feature_vectors,temp), axis=1)\n",
    "            \n",
    "#             print(concatenated_feature_vector.shape)\n",
    "#             print(fbank_vectors.shape)\n",
    "            \n",
    "            # append file's data to dataset\n",
    "            dataset = numpy.concatenate((dataset, concatenated_feature_vector), axis=0)\n",
    "            \n",
    "    \n",
    "    return dataset\n"
   ]
  },
  {
   "cell_type": "code",
   "execution_count": 410,
   "metadata": {},
   "outputs": [],
   "source": [
    "from keras.models import Sequential\n",
    "import numpy as numpy "
   ]
  },
  {
   "cell_type": "code",
   "execution_count": 411,
   "metadata": {
    "scrolled": true
   },
   "outputs": [
    {
     "name": "stderr",
     "output_type": "stream",
     "text": [
      "WARNING:root:frame length (1103) is greater than FFT size (512), frame will be truncated. Increase NFFT to avoid.\n",
      "WARNING:root:frame length (1103) is greater than FFT size (512), frame will be truncated. Increase NFFT to avoid.\n"
     ]
    },
    {
     "name": "stdout",
     "output_type": "stream",
     "text": [
      "SR :44100 M003_punit.wav\n",
      "SR :44100 F002_ritu.wav\n"
     ]
    },
    {
     "name": "stderr",
     "output_type": "stream",
     "text": [
      "WARNING:root:frame length (1103) is greater than FFT size (512), frame will be truncated. Increase NFFT to avoid.\n"
     ]
    },
    {
     "name": "stdout",
     "output_type": "stream",
     "text": [
      "SR :8000 M002_shubham.wav\n"
     ]
    },
    {
     "name": "stderr",
     "output_type": "stream",
     "text": [
      "WARNING:root:frame length (1103) is greater than FFT size (512), frame will be truncated. Increase NFFT to avoid.\n"
     ]
    },
    {
     "name": "stdout",
     "output_type": "stream",
     "text": [
      "SR :44100 M001_rohan.wav\n",
      "SR :44100 F001_srishti.wav\n",
      "SR :8000 M004_sudesh.wav\n",
      "SR :8000 F004_aditi.wav\n",
      "SR :8000 M005_abhinav.wav\n",
      "SR :8000 F003_shraddha.wav\n"
     ]
    }
   ],
   "source": [
    "# from numpy import genfromtxt\n",
    "my_data = get_feature_vectors(\"train\")\n",
    "numpy.random.shuffle(my_data)\n",
    "# get_feature_vectors(\"test\")"
   ]
  },
  {
   "cell_type": "code",
   "execution_count": 412,
   "metadata": {
    "scrolled": true
   },
   "outputs": [
    {
     "name": "stdout",
     "output_type": "stream",
     "text": [
      "(7200, 53)\n"
     ]
    }
   ],
   "source": [
    "# numpy.set_printoptions(threshold=numpy.nan)\n",
    "# print(my_data)\n",
    "print(my_data.shape)"
   ]
  },
  {
   "cell_type": "code",
   "execution_count": 413,
   "metadata": {},
   "outputs": [
    {
     "name": "stdout",
     "output_type": "stream",
     "text": [
      "(7200, 1)\n"
     ]
    }
   ],
   "source": [
    "Y = numpy.copy(my_data[:, no_of_columns:])\n",
    "print(Y.shape)"
   ]
  },
  {
   "cell_type": "code",
   "execution_count": 414,
   "metadata": {
    "scrolled": true
   },
   "outputs": [
    {
     "name": "stdout",
     "output_type": "stream",
     "text": [
      "(7200, 52)\n",
      "(1, 52)\n",
      "(1, 52)\n",
      "(7200, 52)\n"
     ]
    }
   ],
   "source": [
    "X = numpy.copy(my_data[:, :no_of_columns])\n",
    "print(X.shape)\n",
    "mean = X.mean(0, keepdims=True)\n",
    "\n",
    "print(mean.shape)\n",
    "std_deviation = numpy.std(X, axis=0, keepdims=True)\n",
    "print(std_deviation.shape)\n",
    "\n",
    "normalized_X = (X - mean) / std_deviation\n",
    "print(normalized_X.shape)\n"
   ]
  },
  {
   "cell_type": "code",
   "execution_count": 415,
   "metadata": {},
   "outputs": [
    {
     "name": "stdout",
     "output_type": "stream",
     "text": [
      "[[ 0.  0.  0. ...,  1.  0.  0.]\n",
      " [ 0.  0.  0. ...,  1.  0.  0.]\n",
      " [ 0.  0.  0. ...,  0.  0.  0.]\n",
      " ..., \n",
      " [ 0.  0.  0. ...,  0.  0.  0.]\n",
      " [ 0.  0.  0. ...,  0.  0.  0.]\n",
      " [ 0.  1.  0. ...,  0.  0.  0.]]\n"
     ]
    }
   ],
   "source": [
    "from keras import utils as np_utils\n",
    "from keras.layers import Dense, Activation, Dropout\n",
    "from keras.optimizers import SGD\n",
    "\n",
    "one_hot_labels = np_utils.to_categorical(Y, num_classes=classes+1)\n",
    "print(one_hot_labels)"
   ]
  },
  {
   "cell_type": "code",
   "execution_count": 416,
   "metadata": {
    "collapsed": true
   },
   "outputs": [],
   "source": [
    "def train():\n",
    "\n",
    "    # MultiLayer Perceptron\n",
    "    model = Sequential()\n",
    "\n",
    "    # 3000 0.6 1500 0.6 -> 57% acc\n",
    "    # 2560 0.7 1280 0.7 -> cnn_model = cnn_train()\n",
    "# test_cnn(cnn_model)60% acc\n",
    "    # 2560 0.7 1600 0.7 -> 51% acc\n",
    "    # 2560 0.6 1600 0.7 -> 49%\n",
    "    # 2560 0.7 1280 -   -> 50\n",
    "    # 3000 0.7 1280 0.7 -> 54% acc\n",
    "    # 2560 0.7 1280 0.8 -> 45% acc\n",
    "\n",
    "    model.add(Dense(3000, activation='tanh', input_dim=no_of_columns))\n",
    "    model.add(Dense(100, activation='tanh'))\n",
    "    model.add(Dropout(0.3))\n",
    "    model.add(Dense(100, activation='tanh'))\n",
    "    model.add(Dropout(0.3))\n",
    "    model.add(Dense(100, activation='tanh'))\n",
    "    model.add(Dropout(0.3))\n",
    "    model.add(Dense(100, activation='tanh'))\n",
    "    model.add(Dropout(0.3))\n",
    "    \n",
    "#     model.add(Dense(2560, activation='tanh', input_dim=no_of_columns))\n",
    "#     model.add(Dropout(0.7))\n",
    "#     model.add(Dense(1280, activation='tanh'))\n",
    "#     model.add(Dropout(0.7))\n",
    "#     65\n",
    "    model.add(Dense(classes+1, activation='softmax'))\n",
    "\n",
    "    sgd = SGD(lr=0.01, decay=3e-5, momentum=0.9, nesterov=True)\n",
    "    model.compile(loss='categorical_crossentropy',\n",
    "                  optimizer=sgd,\n",
    "                  metrics=['accuracy'])\n",
    "\n",
    "    model.fit(normalized_X, one_hot_labels, epochs=20, batch_size=32)\n",
    "    \n",
    "    return model\n",
    "# score = model.evaluate(x_test, y_test, batch_size=128)"
   ]
  },
  {
   "cell_type": "code",
   "execution_count": 417,
   "metadata": {
    "collapsed": true
   },
   "outputs": [],
   "source": [
    "def test(model):\n",
    "    \n",
    "    test_model = get_feature_vectors(\"test\")\n",
    "    print(test_model.shape)\n",
    "\n",
    "    test_X = numpy.copy(test_model[:, :no_of_columns])\n",
    "#     print(test_X.shape)\n",
    "\n",
    "    normalized_test_X = (test_X - mean) / std_deviation\n",
    "#     print(normalized_test_X.shape)\n",
    "\n",
    "    test_Y = numpy.copy(test_model[:, no_of_columns:])\n",
    "#     print(test_Y.shape)\n",
    "    test_labels = np_utils.to_categorical(test_Y, num_classes=classes+1)\n",
    "\n",
    "#     print(model.test_on_batch(test_X, test_labels, sample_weight=None))\n",
    "#     print(model.metrics_names)\n",
    "    predictions = model.predict(normalized_test_X)\n",
    "    \n",
    "    b = [sum(predictions[current: current+test_frames]) for current in range(0, len(predictions), test_frames)]\n",
    "    predicted_Y = []\n",
    "    for row in b:\n",
    "        predicted_Y.append(row.argmax(axis=0))\n",
    "    \n",
    "    for t, p in zip(test_Y[::test_frames].T[0], predicted_Y):\n",
    "        print (int(t), p)\n",
    "    \n",
    "    diff = predicted_Y - test_Y[::test_frames].T[0]\n",
    "    correct = sum(x == 0 for x in diff)\n",
    "    total = len(predicted_Y)\n",
    "    percent = correct/total * 100\n",
    "    print(str(correct) + \" / \" + str(total) + \" = \" + str(percent))\n",
    "    \n",
    "    loss = str(numpy.sum(numpy.abs(diff)))\n",
    "    print(\"Loss = \" + loss)\n",
    "    \n",
    "    return correct, percent, loss"
   ]
  },
  {
   "cell_type": "code",
   "execution_count": 418,
   "metadata": {
    "scrolled": false
   },
   "outputs": [
    {
     "name": "stdout",
     "output_type": "stream",
     "text": [
      "Epoch 1/20\n",
      "7200/7200 [==============================] - 5s 713us/step - loss: 0.9210 - acc: 0.6700\n",
      "Epoch 2/20\n",
      "7200/7200 [==============================] - 5s 750us/step - loss: 0.5822 - acc: 0.7851\n",
      "Epoch 3/20\n",
      "7200/7200 [==============================] - 5s 743us/step - loss: 0.5025 - acc: 0.8197\n",
      "Epoch 4/20\n",
      "7200/7200 [==============================] - 8s 1ms/step - loss: 0.4510 - acc: 0.8386\n",
      "Epoch 5/20\n",
      "7200/7200 [==============================] - 6s 839us/step - loss: 0.4132 - acc: 0.8583\n",
      "Epoch 6/20\n",
      "7200/7200 [==============================] - 6s 860us/step - loss: 0.4002 - acc: 0.8621\n",
      "Epoch 7/20\n",
      "7200/7200 [==============================] - 6s 858us/step - loss: 0.3634 - acc: 0.8751\n",
      "Epoch 8/20\n",
      "7200/7200 [==============================] - 6s 858us/step - loss: 0.3510 - acc: 0.8760\n",
      "Epoch 9/20\n",
      "7200/7200 [==============================] - 6s 807us/step - loss: 0.3265 - acc: 0.8818\n",
      "Epoch 10/20\n",
      "7200/7200 [==============================] - 6s 830us/step - loss: 0.3253 - acc: 0.8892\n",
      "Epoch 11/20\n",
      "7200/7200 [==============================] - 7s 955us/step - loss: 0.3059 - acc: 0.8946\n",
      "Epoch 12/20\n",
      "7200/7200 [==============================] - 6s 821us/step - loss: 0.2841 - acc: 0.9017\n",
      "Epoch 13/20\n",
      "7200/7200 [==============================] - 5s 738us/step - loss: 0.2809 - acc: 0.9025\n",
      "Epoch 14/20\n",
      "7200/7200 [==============================] - 5s 711us/step - loss: 0.2756 - acc: 0.9049\n",
      "Epoch 15/20\n",
      "7200/7200 [==============================] - 7s 925us/step - loss: 0.2705 - acc: 0.9082\n",
      "Epoch 16/20\n",
      "7200/7200 [==============================] - 6s 797us/step - loss: 0.2600 - acc: 0.9118\n",
      "Epoch 17/20\n",
      "7200/7200 [==============================] - 5s 725us/step - loss: 0.2418 - acc: 0.9172\n",
      "Epoch 18/20\n",
      "7200/7200 [==============================] - 6s 777us/step - loss: 0.2259 - acc: 0.9232\n",
      "Epoch 19/20\n",
      "7200/7200 [==============================] - 8s 1ms/step - loss: 0.2362 - acc: 0.9182\n",
      "Epoch 20/20\n",
      "7200/7200 [==============================] - 7s 941us/step - loss: 0.2150 - acc: 0.9261\n"
     ]
    },
    {
     "name": "stderr",
     "output_type": "stream",
     "text": [
      "WARNING:root:frame length (1103) is greater than FFT size (512), frame will be truncated. Increase NFFT to avoid.\n",
      "WARNING:root:frame length (1103) is greater than FFT size (512), frame will be truncated. Increase NFFT to avoid.\n"
     ]
    },
    {
     "name": "stdout",
     "output_type": "stream",
     "text": [
      "SR :44100 M001_rohan_6.wav\n",
      "SR :44100 F002_ritu_5.wav\n",
      "SR :8000 F004_aditi_2.wav\n"
     ]
    },
    {
     "name": "stderr",
     "output_type": "stream",
     "text": [
      "WARNING:root:frame length (1103) is greater than FFT size (512), frame will be truncated. Increase NFFT to avoid.\n"
     ]
    },
    {
     "name": "stdout",
     "output_type": "stream",
     "text": [
      "SR :8000 M004_sudesh_5.wav\n",
      "SR :44100 F002_ritu_6.wav\n",
      "SR :8000 F003_shraddha_2.wav\n",
      "SR :8000 M002_shubham_8.wav\n"
     ]
    },
    {
     "name": "stderr",
     "output_type": "stream",
     "text": [
      "WARNING:root:frame length (1103) is greater than FFT size (512), frame will be truncated. Increase NFFT to avoid.\n"
     ]
    },
    {
     "name": "stdout",
     "output_type": "stream",
     "text": [
      "SR :8000 F003_shraddha_5.wav\n"
     ]
    },
    {
     "name": "stderr",
     "output_type": "stream",
     "text": [
      "WARNING:root:frame length (1103) is greater than FFT size (512), frame will be truncated. Increase NFFT to avoid.\n"
     ]
    },
    {
     "name": "stdout",
     "output_type": "stream",
     "text": [
      "SR :44100 F001_srishti_5.wav\n",
      "SR :44100 F001_srishti_1.wav\n",
      "SR :8000 M002_shubham_7.wav\n"
     ]
    },
    {
     "name": "stderr",
     "output_type": "stream",
     "text": [
      "WARNING:root:frame length (1103) is greater than FFT size (512), frame will be truncated. Increase NFFT to avoid.\n"
     ]
    },
    {
     "name": "stdout",
     "output_type": "stream",
     "text": [
      "SR :8000 M005_abhinav_1.wav\n",
      "SR :44100 M001_rohan_3.wav\n",
      "SR :8000 M005_abhinav_7.wav\n"
     ]
    },
    {
     "name": "stderr",
     "output_type": "stream",
     "text": [
      "WARNING:root:frame length (1103) is greater than FFT size (512), frame will be truncated. Increase NFFT to avoid.\n",
      "WARNING:root:frame length (1103) is greater than FFT size (512), frame will be truncated. Increase NFFT to avoid.\n"
     ]
    },
    {
     "name": "stdout",
     "output_type": "stream",
     "text": [
      "SR :8000 M004_sudesh_1.wav\n",
      "SR :44100 F001_srishti_7.wav\n",
      "SR :44100 F001_srishti_8.wav\n",
      "SR :8000 F003_shraddha_4.wav\n",
      "SR :8000 F004_aditi_6.wav\n"
     ]
    },
    {
     "name": "stderr",
     "output_type": "stream",
     "text": [
      "WARNING:root:frame length (1103) is greater than FFT size (512), frame will be truncated. Increase NFFT to avoid.\n"
     ]
    },
    {
     "name": "stdout",
     "output_type": "stream",
     "text": [
      "SR :44100 F001_srishti_3.wav\n",
      "SR :8000 M004_sudesh_4.wav\n",
      "SR :8000 F004_aditi_7.wav\n"
     ]
    },
    {
     "name": "stderr",
     "output_type": "stream",
     "text": [
      "WARNING:root:frame length (1103) is greater than FFT size (512), frame will be truncated. Increase NFFT to avoid.\n"
     ]
    },
    {
     "name": "stdout",
     "output_type": "stream",
     "text": [
      "SR :8000 F004_aditi_1.wav\n"
     ]
    },
    {
     "name": "stderr",
     "output_type": "stream",
     "text": [
      "WARNING:root:frame length (1103) is greater than FFT size (512), frame will be truncated. Increase NFFT to avoid.\n",
      "WARNING:root:frame length (1103) is greater than FFT size (512), frame will be truncated. Increase NFFT to avoid.\n"
     ]
    },
    {
     "name": "stdout",
     "output_type": "stream",
     "text": [
      "SR :44100 F002_ritu_3.wav\n",
      "SR :44100 M001_rohan_1.wav\n",
      "SR :44100 F002_ritu_4.wav\n",
      "SR :8000 M004_sudesh_6.wav\n",
      "SR :8000 M005_abhinav_3.wav\n",
      "SR :8000 M002_shubham_4.wav\n",
      "SR :8000 F003_shraddha_3.wav\n"
     ]
    },
    {
     "name": "stderr",
     "output_type": "stream",
     "text": [
      "WARNING:root:frame length (1103) is greater than FFT size (512), frame will be truncated. Increase NFFT to avoid.\n"
     ]
    },
    {
     "name": "stdout",
     "output_type": "stream",
     "text": [
      "SR :8000 M002_shubham_5.wav\n",
      "SR :44100 F002_ritu_1.wav\n"
     ]
    },
    {
     "name": "stderr",
     "output_type": "stream",
     "text": [
      "WARNING:root:frame length (1103) is greater than FFT size (512), frame will be truncated. Increase NFFT to avoid.\n"
     ]
    },
    {
     "name": "stdout",
     "output_type": "stream",
     "text": [
      "SR :8000 M005_abhinav_6.wav\n",
      "SR :44100 M001_rohan_8.wav\n",
      "SR :8000 F003_shraddha_6.wav\n"
     ]
    },
    {
     "name": "stderr",
     "output_type": "stream",
     "text": [
      "WARNING:root:frame length (1103) is greater than FFT size (512), frame will be truncated. Increase NFFT to avoid.\n",
      "WARNING:root:frame length (1103) is greater than FFT size (512), frame will be truncated. Increase NFFT to avoid.\n"
     ]
    },
    {
     "name": "stdout",
     "output_type": "stream",
     "text": [
      "SR :44100 M001_rohan_7.wav\n",
      "SR :8000 F004_aditi_3.wav\n",
      "SR :44100 M003_punit_3.wav\n",
      "SR :8000 M002_shubham_3.wav\n",
      "SR :8000 M002_shubham_1.wav\n",
      "SR :8000 F003_shraddha_1.wav\n"
     ]
    },
    {
     "name": "stderr",
     "output_type": "stream",
     "text": [
      "WARNING:root:frame length (1103) is greater than FFT size (512), frame will be truncated. Increase NFFT to avoid.\n"
     ]
    },
    {
     "name": "stdout",
     "output_type": "stream",
     "text": [
      "SR :8000 M002_shubham_2.wav\n",
      "SR :8000 F004_aditi_5.wav\n",
      "SR :44100 F001_srishti_2.wav\n"
     ]
    },
    {
     "name": "stderr",
     "output_type": "stream",
     "text": [
      "WARNING:root:frame length (1103) is greater than FFT size (512), frame will be truncated. Increase NFFT to avoid.\n"
     ]
    },
    {
     "name": "stdout",
     "output_type": "stream",
     "text": [
      "SR :8000 F004_aditi_8.wav\n",
      "SR :8000 M004_sudesh_3.wav\n",
      "SR :44100 M003_punit_2.wav\n"
     ]
    },
    {
     "name": "stderr",
     "output_type": "stream",
     "text": [
      "WARNING:root:frame length (1103) is greater than FFT size (512), frame will be truncated. Increase NFFT to avoid.\n",
      "WARNING:root:frame length (1103) is greater than FFT size (512), frame will be truncated. Increase NFFT to avoid.\n"
     ]
    },
    {
     "name": "stdout",
     "output_type": "stream",
     "text": [
      "SR :8000 F003_shraddha_8.wav\n",
      "SR :44100 M001_rohan_2.wav\n",
      "SR :44100 F001_srishti_6.wav\n",
      "SR :8000 M005_abhinav_2.wav\n",
      "SR :8000 F004_aditi_4.wav\n",
      "SR :8000 M004_sudesh_8.wav\n",
      "SR :8000 M005_abhinav_5.wav\n",
      "SR :8000 M005_abhinav_8.wav\n",
      "SR :8000 M002_shubham_6.wav\n"
     ]
    },
    {
     "name": "stderr",
     "output_type": "stream",
     "text": [
      "WARNING:root:frame length (1103) is greater than FFT size (512), frame will be truncated. Increase NFFT to avoid.\n",
      "WARNING:root:frame length (1103) is greater than FFT size (512), frame will be truncated. Increase NFFT to avoid.\n"
     ]
    },
    {
     "name": "stdout",
     "output_type": "stream",
     "text": [
      "SR :8000 M004_sudesh_2.wav\n",
      "SR :44100 F001_srishti_4.wav\n",
      "SR :44100 F002_ritu_2.wav\n"
     ]
    },
    {
     "name": "stderr",
     "output_type": "stream",
     "text": [
      "WARNING:root:frame length (1103) is greater than FFT size (512), frame will be truncated. Increase NFFT to avoid.\n"
     ]
    },
    {
     "name": "stdout",
     "output_type": "stream",
     "text": [
      "SR :8000 F003_shraddha_7.wav\n",
      "SR :44100 M001_rohan_5.wav\n"
     ]
    },
    {
     "name": "stderr",
     "output_type": "stream",
     "text": [
      "WARNING:root:frame length (1103) is greater than FFT size (512), frame will be truncated. Increase NFFT to avoid.\n",
      "WARNING:root:frame length (1103) is greater than FFT size (512), frame will be truncated. Increase NFFT to avoid.\n"
     ]
    },
    {
     "name": "stdout",
     "output_type": "stream",
     "text": [
      "SR :8000 M005_abhinav_4.wav\n",
      "SR :44100 M001_rohan_4.wav\n",
      "SR :8000 M004_sudesh_7.wav\n"
     ]
    },
    {
     "name": "stderr",
     "output_type": "stream",
     "text": [
      "WARNING:root:frame length (1103) is greater than FFT size (512), frame will be truncated. Increase NFFT to avoid.\n"
     ]
    },
    {
     "name": "stdout",
     "output_type": "stream",
     "text": [
      "SR :44100 M003_punit_4.wav\n",
      "SR :44100 M003_punit_1.wav\n",
      "(3300, 53)\n",
      "6 6\n",
      "2 1\n",
      "4 4\n",
      "9 7\n",
      "2 2\n",
      "3 7\n",
      "7 9\n",
      "3 3\n",
      "1 1\n",
      "1 2\n",
      "7 7\n",
      "10 10\n",
      "6 6\n",
      "10 10\n",
      "9 10\n",
      "1 1\n",
      "1 1\n",
      "3 3\n",
      "4 4\n",
      "1 1\n",
      "9 7\n",
      "4 4\n",
      "4 4\n",
      "2 1\n",
      "6 6\n",
      "2 1\n",
      "9 10\n",
      "10 10\n",
      "7 7\n",
      "3 3\n",
      "7 7\n",
      "2 2\n",
      "10 10\n",
      "6 6\n",
      "3 4\n",
      "6 6\n",
      "4 4\n",
      "8 8\n",
      "7 10\n",
      "7 9\n",
      "3 4\n",
      "7 7\n",
      "4 4\n",
      "1 1\n",
      "4 4\n",
      "9 7\n",
      "8 8\n",
      "3 3\n",
      "6 6\n",
      "1 1\n",
      "10 10\n",
      "4 4\n",
      "9 10\n",
      "10 10\n",
      "10 7\n",
      "7 7\n",
      "9 7\n",
      "1 1\n",
      "2 1\n",
      "3 3\n",
      "6 6\n",
      "10 10\n",
      "6 6\n",
      "9 9\n",
      "8 8\n",
      "8 8\n",
      "47 / 66 = 71.2121212121\n",
      "Loss = 32.0\n"
     ]
    },
    {
     "data": {
      "text/plain": [
       "(47, 71.212121212121218, '32.0')"
      ]
     },
     "execution_count": 418,
     "metadata": {},
     "output_type": "execute_result"
    }
   ],
   "source": [
    "model = train()\n",
    "test(model)"
   ]
  },
  {
   "cell_type": "code",
   "execution_count": 419,
   "metadata": {
    "collapsed": true
   },
   "outputs": [],
   "source": [
    "def cnn_train():\n",
    "    \n",
    "    temp = normalized_X.reshape(normalized_X.shape[0], no_of_columns, 1)\n",
    "    \n",
    "    model = Sequential()\n",
    "    # 13 7 1 1 0.25 60 0.25 10 - 70%\n",
    "    \n",
    "    model.add(Convolution1D(52, 13, activation='tanh', input_shape=(no_of_columns,1)))\n",
    "    model.add(Convolution1D(52, 7, activation='tanh'))\n",
    "    model.add(Convolution1D(13, 3, activation='tanh'))\n",
    "    \n",
    "    # stride = 2 - 70\n",
    "    # 20, 10, 17 op - 64\n",
    "    \n",
    "    model.add(MaxPooling1D(pool_size=(1)))\n",
    "#     model.add(Dropout(0.25))\n",
    "    model.add(Flatten())\n",
    "    model.add(Dense(1000, activation='tanh'))\n",
    "    model.add(Dropout(0.25))\n",
    "    \n",
    "    # 0.4 70\n",
    "    model.add(Dense(classes+1, activation='softmax'))\n",
    "\n",
    "    model.compile(loss='categorical_crossentropy', optimizer='adam', metrics=['accuracy'])\n",
    "\n",
    "    model.fit(temp, one_hot_labels, epochs=20, batch_size=100)\n",
    "    return model"
   ]
  },
  {
   "cell_type": "code",
   "execution_count": 420,
   "metadata": {
    "collapsed": true
   },
   "outputs": [],
   "source": [
    "def test_cnn(model):\n",
    "    \n",
    "    test_model = get_feature_vectors(\"test\")\n",
    "#     print(test_model.shape)\n",
    "\n",
    "    test_X = numpy.copy(test_model[:, :no_of_columns])\n",
    "#     print(test_X.shape)\n",
    "\n",
    "    normalized_test_X = (test_X - mean) / std_deviation\n",
    "#     print(normalized_test_X.shape)\n",
    "\n",
    "    test_Y = numpy.copy(test_model[:, no_of_columns:])\n",
    "#     print(test_Y.shape)\n",
    "    test_labels = np_utils.to_categorical(test_Y, num_classes=classes+1)\n",
    "    \n",
    "    test_X = test_X.reshape(test_X.shape[0], no_of_columns, 1)\n",
    "    normalized_test_X = normalized_test_X.reshape(normalized_test_X.shape[0], no_of_columns, 1)\n",
    "    \n",
    "    print(model.test_on_batch(normalized_test_X, test_labels, sample_weight=None))\n",
    "    print(model.metrics_names)\n",
    "    predictions = model.predict(normalized_test_X)\n",
    "\n",
    "    b = [sum(predictions[current: current+test_frames]) for current in range(0, len(predictions), test_frames)]\n",
    "    predicted_Y = []\n",
    "    for row in b:\n",
    "        predicted_Y.append(row.argmax(axis=0))\n",
    "\n",
    "    # print(predicted_Y)\n",
    "    # print(test_Y[::40].T)\n",
    "    \n",
    "    indices = numpy.argmax(predictions, axis=1)\n",
    "    majority = []\n",
    "    \n",
    "    for i in range(0, len(indices), test_frames):\n",
    "        majority.append(find_majority(indices[i:i + test_frames]))\n",
    "        \n",
    "#     majority = \n",
    "    for t, p, m in zip(test_Y[::test_frames].T[0], predicted_Y, majority):\n",
    "        print(int(t), p, m[0])\n",
    "    \n",
    "#     for t, p in zip(test_Y.T[0], indices):\n",
    "#         print(int(t), p)\n",
    "    \n",
    "    \n",
    "    diff = predicted_Y - test_Y[::test_frames].T[0]\n",
    "    maj_diff = numpy.array(majority)[:, 0] - test_Y[::test_frames].T[0]\n",
    "\n",
    "    numerator = sum(x == 0 for x in diff)\n",
    "    denominator = len(predicted_Y)\n",
    "    \n",
    "    numerator2 = sum(x == 0 for x in maj_diff)\n",
    "    denominator2 = len(maj_diff)\n",
    "    \n",
    "\n",
    "    print(\"Accuracy prob_diff: {} of {} - {}\".format(numerator, denominator, numerator/denominator))\n",
    "    \n",
    "    print(\"Accuracy maj_diff: {} of {} - {}\".format(numerator2, denominator2, numerator2/denominator2))\n",
    "    "
   ]
  },
  {
   "cell_type": "code",
   "execution_count": 421,
   "metadata": {
    "scrolled": false
   },
   "outputs": [
    {
     "name": "stdout",
     "output_type": "stream",
     "text": [
      "Epoch 1/20\n",
      "7200/7200 [==============================] - 11s 1ms/step - loss: 0.9205 - acc: 0.6793\n",
      "Epoch 2/20\n",
      "7200/7200 [==============================] - 9s 1ms/step - loss: 0.5152 - acc: 0.8040\n",
      "Epoch 3/20\n",
      "7200/7200 [==============================] - 9s 1ms/step - loss: 0.4030 - acc: 0.8511\n",
      "Epoch 4/20\n",
      "7200/7200 [==============================] - 12s 2ms/step - loss: 0.3161 - acc: 0.8865\n",
      "Epoch 5/20\n",
      "7200/7200 [==============================] - 9s 1ms/step - loss: 0.2366 - acc: 0.9157\n",
      "Epoch 6/20\n",
      "7200/7200 [==============================] - 9s 1ms/step - loss: 0.1893 - acc: 0.9333\n",
      "Epoch 7/20\n",
      "7200/7200 [==============================] - 9s 1ms/step - loss: 0.1317 - acc: 0.9594\n",
      "Epoch 8/20\n",
      "7200/7200 [==============================] - 9s 1ms/step - loss: 0.1057 - acc: 0.9679\n",
      "Epoch 9/20\n",
      "7200/7200 [==============================] - 10s 1ms/step - loss: 0.0750 - acc: 0.9794\n",
      "Epoch 10/20\n",
      "7200/7200 [==============================] - 9s 1ms/step - loss: 0.0598 - acc: 0.9856\n",
      "Epoch 11/20\n",
      "7200/7200 [==============================] - 9s 1ms/step - loss: 0.0419 - acc: 0.9917\n",
      "Epoch 12/20\n",
      "7200/7200 [==============================] - 10s 1ms/step - loss: 0.0354 - acc: 0.9936\n",
      "Epoch 13/20\n",
      "7200/7200 [==============================] - 9s 1ms/step - loss: 0.0271 - acc: 0.9963\n",
      "Epoch 14/20\n",
      "7200/7200 [==============================] - 9s 1ms/step - loss: 0.0213 - acc: 0.9981\n",
      "Epoch 15/20\n",
      "7200/7200 [==============================] - 9s 1ms/step - loss: 0.0156 - acc: 0.9988\n",
      "Epoch 16/20\n",
      "7200/7200 [==============================] - 9s 1ms/step - loss: 0.0129 - acc: 0.9990\n",
      "Epoch 17/20\n",
      "7200/7200 [==============================] - 9s 1ms/step - loss: 0.0113 - acc: 0.9993\n",
      "Epoch 18/20\n",
      "7200/7200 [==============================] - 9s 1ms/step - loss: 0.0098 - acc: 0.9994\n",
      "Epoch 19/20\n",
      "7200/7200 [==============================] - 9s 1ms/step - loss: 0.0078 - acc: 0.9997\n",
      "Epoch 20/20\n",
      "7200/7200 [==============================] - 10s 1ms/step - loss: 0.0073 - acc: 1.0000\n"
     ]
    },
    {
     "name": "stderr",
     "output_type": "stream",
     "text": [
      "WARNING:root:frame length (1103) is greater than FFT size (512), frame will be truncated. Increase NFFT to avoid.\n",
      "WARNING:root:frame length (1103) is greater than FFT size (512), frame will be truncated. Increase NFFT to avoid.\n"
     ]
    },
    {
     "name": "stdout",
     "output_type": "stream",
     "text": [
      "SR :44100 M001_rohan_6.wav\n",
      "SR :44100 F002_ritu_5.wav\n",
      "SR :8000 F004_aditi_2.wav\n"
     ]
    },
    {
     "name": "stderr",
     "output_type": "stream",
     "text": [
      "WARNING:root:frame length (1103) is greater than FFT size (512), frame will be truncated. Increase NFFT to avoid.\n"
     ]
    },
    {
     "name": "stdout",
     "output_type": "stream",
     "text": [
      "SR :8000 M004_sudesh_5.wav\n",
      "SR :44100 F002_ritu_6.wav\n",
      "SR :8000 F003_shraddha_2.wav\n"
     ]
    },
    {
     "name": "stderr",
     "output_type": "stream",
     "text": [
      "WARNING:root:frame length (1103) is greater than FFT size (512), frame will be truncated. Increase NFFT to avoid.\n"
     ]
    },
    {
     "name": "stdout",
     "output_type": "stream",
     "text": [
      "SR :8000 M002_shubham_8.wav\n",
      "SR :8000 F003_shraddha_5.wav\n"
     ]
    },
    {
     "name": "stderr",
     "output_type": "stream",
     "text": [
      "WARNING:root:frame length (1103) is greater than FFT size (512), frame will be truncated. Increase NFFT to avoid.\n"
     ]
    },
    {
     "name": "stdout",
     "output_type": "stream",
     "text": [
      "SR :44100 F001_srishti_5.wav\n",
      "SR :44100 F001_srishti_1.wav\n",
      "SR :8000 M002_shubham_7.wav\n"
     ]
    },
    {
     "name": "stderr",
     "output_type": "stream",
     "text": [
      "WARNING:root:frame length (1103) is greater than FFT size (512), frame will be truncated. Increase NFFT to avoid.\n"
     ]
    },
    {
     "name": "stdout",
     "output_type": "stream",
     "text": [
      "SR :8000 M005_abhinav_1.wav\n",
      "SR :44100 M001_rohan_3.wav\n",
      "SR :8000 M005_abhinav_7.wav\n"
     ]
    },
    {
     "name": "stderr",
     "output_type": "stream",
     "text": [
      "WARNING:root:frame length (1103) is greater than FFT size (512), frame will be truncated. Increase NFFT to avoid.\n",
      "WARNING:root:frame length (1103) is greater than FFT size (512), frame will be truncated. Increase NFFT to avoid.\n"
     ]
    },
    {
     "name": "stdout",
     "output_type": "stream",
     "text": [
      "SR :8000 M004_sudesh_1.wav\n",
      "SR :44100 F001_srishti_7.wav\n",
      "SR :44100 F001_srishti_8.wav\n"
     ]
    },
    {
     "name": "stderr",
     "output_type": "stream",
     "text": [
      "WARNING:root:frame length (1103) is greater than FFT size (512), frame will be truncated. Increase NFFT to avoid.\n"
     ]
    },
    {
     "name": "stdout",
     "output_type": "stream",
     "text": [
      "SR :8000 F003_shraddha_4.wav\n",
      "SR :8000 F004_aditi_6.wav\n",
      "SR :44100 F001_srishti_3.wav\n"
     ]
    },
    {
     "name": "stderr",
     "output_type": "stream",
     "text": [
      "WARNING:root:frame length (1103) is greater than FFT size (512), frame will be truncated. Increase NFFT to avoid.\n"
     ]
    },
    {
     "name": "stdout",
     "output_type": "stream",
     "text": [
      "SR :8000 M004_sudesh_4.wav\n",
      "SR :8000 F004_aditi_7.wav\n",
      "SR :8000 F004_aditi_1.wav\n"
     ]
    },
    {
     "name": "stderr",
     "output_type": "stream",
     "text": [
      "WARNING:root:frame length (1103) is greater than FFT size (512), frame will be truncated. Increase NFFT to avoid.\n",
      "WARNING:root:frame length (1103) is greater than FFT size (512), frame will be truncated. Increase NFFT to avoid.\n"
     ]
    },
    {
     "name": "stdout",
     "output_type": "stream",
     "text": [
      "SR :44100 F002_ritu_3.wav\n",
      "SR :44100 M001_rohan_1.wav\n",
      "SR :44100 F002_ritu_4.wav\n",
      "SR :8000 M004_sudesh_6.wav\n"
     ]
    },
    {
     "name": "stderr",
     "output_type": "stream",
     "text": [
      "WARNING:root:frame length (1103) is greater than FFT size (512), frame will be truncated. Increase NFFT to avoid.\n"
     ]
    },
    {
     "name": "stdout",
     "output_type": "stream",
     "text": [
      "SR :8000 M005_abhinav_3.wav\n",
      "SR :8000 M002_shubham_4.wav\n",
      "SR :8000 F003_shraddha_3.wav\n",
      "SR :8000 M002_shubham_5.wav\n"
     ]
    },
    {
     "name": "stderr",
     "output_type": "stream",
     "text": [
      "WARNING:root:frame length (1103) is greater than FFT size (512), frame will be truncated. Increase NFFT to avoid.\n"
     ]
    },
    {
     "name": "stdout",
     "output_type": "stream",
     "text": [
      "SR :44100 F002_ritu_1.wav\n",
      "SR :8000 M005_abhinav_6.wav\n",
      "SR :44100 M001_rohan_8.wav\n"
     ]
    },
    {
     "name": "stderr",
     "output_type": "stream",
     "text": [
      "WARNING:root:frame length (1103) is greater than FFT size (512), frame will be truncated. Increase NFFT to avoid.\n",
      "WARNING:root:frame length (1103) is greater than FFT size (512), frame will be truncated. Increase NFFT to avoid.\n"
     ]
    },
    {
     "name": "stdout",
     "output_type": "stream",
     "text": [
      "SR :8000 F003_shraddha_6.wav\n",
      "SR :44100 M001_rohan_7.wav\n",
      "SR :8000 F004_aditi_3.wav\n",
      "SR :44100 M003_punit_3.wav\n",
      "SR :8000 M002_shubham_3.wav\n",
      "SR :8000 M002_shubham_1.wav\n",
      "SR :8000 F003_shraddha_1.wav\n",
      "SR :8000 M002_shubham_2.wav\n"
     ]
    },
    {
     "name": "stderr",
     "output_type": "stream",
     "text": [
      "WARNING:root:frame length (1103) is greater than FFT size (512), frame will be truncated. Increase NFFT to avoid.\n"
     ]
    },
    {
     "name": "stdout",
     "output_type": "stream",
     "text": [
      "SR :8000 F004_aditi_5.wav\n",
      "SR :44100 F001_srishti_2.wav\n",
      "SR :8000 F004_aditi_8.wav\n",
      "SR :8000 M004_sudesh_3.wav\n"
     ]
    },
    {
     "name": "stderr",
     "output_type": "stream",
     "text": [
      "WARNING:root:frame length (1103) is greater than FFT size (512), frame will be truncated. Increase NFFT to avoid.\n",
      "WARNING:root:frame length (1103) is greater than FFT size (512), frame will be truncated. Increase NFFT to avoid.\n"
     ]
    },
    {
     "name": "stdout",
     "output_type": "stream",
     "text": [
      "SR :44100 M003_punit_2.wav\n",
      "SR :8000 F003_shraddha_8.wav\n"
     ]
    },
    {
     "name": "stderr",
     "output_type": "stream",
     "text": [
      "WARNING:root:frame length (1103) is greater than FFT size (512), frame will be truncated. Increase NFFT to avoid.\n"
     ]
    },
    {
     "name": "stdout",
     "output_type": "stream",
     "text": [
      "SR :44100 M001_rohan_2.wav\n",
      "SR :44100 F001_srishti_6.wav\n",
      "SR :8000 M005_abhinav_2.wav\n",
      "SR :8000 F004_aditi_4.wav\n",
      "SR :8000 M004_sudesh_8.wav\n",
      "SR :8000 M005_abhinav_5.wav\n",
      "SR :8000 M005_abhinav_8.wav\n",
      "SR :8000 M002_shubham_6.wav\n"
     ]
    },
    {
     "name": "stderr",
     "output_type": "stream",
     "text": [
      "WARNING:root:frame length (1103) is greater than FFT size (512), frame will be truncated. Increase NFFT to avoid.\n",
      "WARNING:root:frame length (1103) is greater than FFT size (512), frame will be truncated. Increase NFFT to avoid.\n"
     ]
    },
    {
     "name": "stdout",
     "output_type": "stream",
     "text": [
      "SR :8000 M004_sudesh_2.wav\n",
      "SR :44100 F001_srishti_4.wav\n",
      "SR :44100 F002_ritu_2.wav\n"
     ]
    },
    {
     "name": "stderr",
     "output_type": "stream",
     "text": [
      "WARNING:root:frame length (1103) is greater than FFT size (512), frame will be truncated. Increase NFFT to avoid.\n",
      "WARNING:root:frame length (1103) is greater than FFT size (512), frame will be truncated. Increase NFFT to avoid.\n"
     ]
    },
    {
     "name": "stdout",
     "output_type": "stream",
     "text": [
      "SR :8000 F003_shraddha_7.wav\n",
      "SR :44100 M001_rohan_5.wav\n",
      "SR :8000 M005_abhinav_4.wav\n"
     ]
    },
    {
     "name": "stderr",
     "output_type": "stream",
     "text": [
      "WARNING:root:frame length (1103) is greater than FFT size (512), frame will be truncated. Increase NFFT to avoid.\n",
      "WARNING:root:frame length (1103) is greater than FFT size (512), frame will be truncated. Increase NFFT to avoid.\n"
     ]
    },
    {
     "name": "stdout",
     "output_type": "stream",
     "text": [
      "SR :44100 M001_rohan_4.wav\n",
      "SR :8000 M004_sudesh_7.wav\n",
      "SR :44100 M003_punit_4.wav\n",
      "SR :44100 M003_punit_1.wav\n",
      "[array(2.012251615524292, dtype=float32), array(0.6084848642349243, dtype=float32)]\n",
      "['loss', 'acc']\n",
      "6 6 6\n",
      "2 1 1\n",
      "4 4 4\n",
      "9 9 9\n",
      "2 2 2\n",
      "3 7 7\n",
      "7 9 9\n",
      "3 3 3\n",
      "1 1 1\n",
      "1 2 2\n",
      "7 7 7\n",
      "10 10 10\n",
      "6 6 6\n",
      "10 10 10\n",
      "9 9 9\n",
      "1 1 1\n",
      "1 1 1\n",
      "3 4 4\n",
      "4 4 4\n",
      "1 1 1\n",
      "9 7 7\n",
      "4 4 4\n",
      "4 4 4\n",
      "2 1 1\n",
      "6 6 6\n",
      "2 1 1\n",
      "9 9 9\n",
      "10 10 10\n",
      "7 7 7\n",
      "3 3 3\n",
      "7 7 7\n",
      "2 1 1\n",
      "10 10 10\n",
      "6 6 6\n",
      "3 4 4\n",
      "6 6 6\n",
      "4 4 4\n",
      "8 8 8\n",
      "7 10 7\n",
      "7 7 7\n",
      "3 4 4\n",
      "7 7 7\n",
      "4 4 4\n",
      "1 1 1\n",
      "4 4 4\n",
      "9 9 9\n",
      "8 8 8\n",
      "3 4 4\n",
      "6 6 6\n",
      "1 1 1\n",
      "10 10 10\n",
      "4 4 4\n",
      "9 10 10\n",
      "10 10 10\n",
      "10 10 10\n",
      "7 7 7\n",
      "9 7 7\n",
      "1 1 1\n",
      "2 1 1\n",
      "3 3 3\n",
      "6 6 6\n",
      "10 10 10\n",
      "6 6 6\n",
      "9 9 9\n",
      "8 8 8\n",
      "8 8 8\n",
      "Accuracy prob_diff: 50 of 66 - 0.7575757575757576\n",
      "Accuracy maj_diff: 51 of 66 - 0.7727272727272727\n"
     ]
    }
   ],
   "source": [
    "cnn_model = cnn_train()\n",
    "test_cnn(cnn_model)"
   ]
  },
  {
   "cell_type": "code",
   "execution_count": 422,
   "metadata": {
    "collapsed": true,
    "scrolled": false
   },
   "outputs": [],
   "source": [
    "def dense_cnn_train():\n",
    "    \n",
    "    model = Sequential()\n",
    "    # 13 7 1 1 0.25 60 0.25 10 - 70%\n",
    "    \n",
    "    model.add(Dense(2560, activation='tanh', input_dim=no_of_columns))\n",
    "    model.add(Dropout(0.2))\n",
    "    model.add(Dense(1300, activation='tanh'))\n",
    "\n",
    "    model.add(Reshape((52, -1)))\n",
    "    model.add(Convolution1D(52, 13, activation='tanh'))\n",
    "    model.add(Convolution1D(52, 7, activation='tanh'))\n",
    "    model.add(Convolution1D(13, 3, activation='tanh'))\n",
    "    \n",
    "    # stride = 2 - 70\n",
    "    # 20, 10, 17 op - 64\n",
    "    \n",
    "    model.add(MaxPooling1D(pool_size=(1)))\n",
    "#     model.add(Dropout(0.25))\n",
    "    model.add(Flatten())\n",
    "    model.add(Dense(1000, activation='tanh'))\n",
    "    model.add(Dropout(0.25))\n",
    "    \n",
    "    # 0.4 70\n",
    "    model.add(Dense(classes+1, activation='softmax'))\n",
    "\n",
    "    model.compile(loss='categorical_crossentropy', optimizer='adam', metrics=['accuracy'])\n",
    "\n",
    "    model.fit(normalized_X, one_hot_labels, epochs=10, batch_size=100)\n",
    "    return model"
   ]
  },
  {
   "cell_type": "code",
   "execution_count": 423,
   "metadata": {
    "scrolled": false
   },
   "outputs": [],
   "source": [
    "def dense_cnn_test(model):\n",
    "    \n",
    "    test_model = get_feature_vectors(\"test\")\n",
    "#     print(test_model.shape)\n",
    "\n",
    "    test_X = numpy.copy(test_model[:, :no_of_columns])\n",
    "#     print(test_X.shape)\n",
    "\n",
    "    normalized_test_X = (test_X - mean) / std_deviation\n",
    "#     print(normalized_test_X.shape)\n",
    "\n",
    "    test_Y = numpy.copy(test_model[:, no_of_columns:])\n",
    "#     print(test_Y.shape)\n",
    "    test_labels = np_utils.to_categorical(test_Y, num_classes=classes+1)\n",
    "    \n",
    "#     test_X = test_X.reshape(test_X.shape[0], no_of_columns, 1)\n",
    "#     normalized_test_X = normalized_test_X.reshape(normalized_test_X.shape[0], no_of_columns, 1)\n",
    "    \n",
    "    print(model.test_on_batch(normalized_test_X, test_labels, sample_weight=None))\n",
    "    print(model.metrics_names)\n",
    "    predictions = model.predict(normalized_test_X)\n",
    "\n",
    "    b = [sum(predictions[current: current+test_frames]) for current in range(0, len(predictions), test_frames)]\n",
    "    predicted_Y = []\n",
    "    for row in b:\n",
    "        predicted_Y.append(row.argmax(axis=0))\n",
    "\n",
    "    # print(predicted_Y)\n",
    "    # print(test_Y[::40].T)\n",
    "    \n",
    "    indices = numpy.argmax(predictions, axis=1)\n",
    "    majority = []\n",
    "    \n",
    "    for i in range(0, len(indices), test_frames):\n",
    "        majority.append(find_majority(indices[i:i + test_frames]))\n",
    "        \n",
    "#     majority = \n",
    "    for t, p, m in zip(test_Y[::test_frames].T[0], predicted_Y, majority):\n",
    "        print(int(t), p, m[0])\n",
    "    \n",
    "#     for t, p in zip(test_Y.T[0], indices):\n",
    "#         print(int(t), p)\n",
    "    \n",
    "    \n",
    "    diff = predicted_Y - test_Y[::test_frames].T[0]\n",
    "    maj_diff = numpy.array(majority)[:, 0] - test_Y[::test_frames].T[0]\n",
    "\n",
    "    numerator = sum(x == 0 for x in diff)\n",
    "    denominator = len(predicted_Y)\n",
    "    \n",
    "    numerator2 = sum(x == 0 for x in maj_diff)\n",
    "    denominator2 = len(maj_diff)\n",
    "    \n",
    "\n",
    "    print(\"Accuracy prob_diff: {} of {} - {}\".format(numerator, denominator, numerator/denominator))\n",
    "    \n",
    "    print(\"Accuracy maj_diff: {} of {} - {}\".format(numerator2, denominator2, numerator2/denominator2))\n",
    "    \n",
    "\n",
    "# print(predicted_Y)\n",
    "# print(test_Y[::40].T)\n",
    "\n",
    "# for t, p in zip(test_Y[::40].T[0], predicted_Y):\n",
    "#     print (int(t), p)\n",
    "\n"
   ]
  },
  {
   "cell_type": "code",
   "execution_count": 424,
   "metadata": {
    "scrolled": false
   },
   "outputs": [
    {
     "name": "stdout",
     "output_type": "stream",
     "text": [
      "Epoch 1/10\n",
      "7200/7200 [==============================] - 23s 3ms/step - loss: 0.6836 - acc: 0.7532\n",
      "Epoch 2/10\n",
      "7200/7200 [==============================] - 24s 3ms/step - loss: 0.3680 - acc: 0.8667\n",
      "Epoch 3/10\n",
      "7200/7200 [==============================] - 26s 4ms/step - loss: 0.2495 - acc: 0.9097\n",
      "Epoch 4/10\n",
      "7200/7200 [==============================] - 26s 4ms/step - loss: 0.1898 - acc: 0.9339\n",
      "Epoch 5/10\n",
      "7200/7200 [==============================] - 24s 3ms/step - loss: 0.1170 - acc: 0.9585\n",
      "Epoch 6/10\n",
      "7200/7200 [==============================] - 24s 3ms/step - loss: 0.0585 - acc: 0.9803\n",
      "Epoch 7/10\n",
      "7200/7200 [==============================] - 24s 3ms/step - loss: 0.0467 - acc: 0.9832\n",
      "Epoch 8/10\n",
      "7200/7200 [==============================] - 26s 4ms/step - loss: 0.0396 - acc: 0.9864\n",
      "Epoch 9/10\n",
      "7200/7200 [==============================] - 25s 3ms/step - loss: 0.0399 - acc: 0.9876\n",
      "Epoch 10/10\n",
      "7200/7200 [==============================] - 25s 3ms/step - loss: 0.0159 - acc: 0.9956\n"
     ]
    },
    {
     "name": "stderr",
     "output_type": "stream",
     "text": [
      "WARNING:root:frame length (1103) is greater than FFT size (512), frame will be truncated. Increase NFFT to avoid.\n",
      "WARNING:root:frame length (1103) is greater than FFT size (512), frame will be truncated. Increase NFFT to avoid.\n"
     ]
    },
    {
     "name": "stdout",
     "output_type": "stream",
     "text": [
      "SR :44100 M001_rohan_6.wav\n",
      "SR :44100 F002_ritu_5.wav\n",
      "SR :8000 F004_aditi_2.wav\n"
     ]
    },
    {
     "name": "stderr",
     "output_type": "stream",
     "text": [
      "WARNING:root:frame length (1103) is greater than FFT size (512), frame will be truncated. Increase NFFT to avoid.\n"
     ]
    },
    {
     "name": "stdout",
     "output_type": "stream",
     "text": [
      "SR :8000 M004_sudesh_5.wav\n",
      "SR :44100 F002_ritu_6.wav\n",
      "SR :8000 F003_shraddha_2.wav\n"
     ]
    },
    {
     "name": "stderr",
     "output_type": "stream",
     "text": [
      "WARNING:root:frame length (1103) is greater than FFT size (512), frame will be truncated. Increase NFFT to avoid.\n"
     ]
    },
    {
     "name": "stdout",
     "output_type": "stream",
     "text": [
      "SR :8000 M002_shubham_8.wav\n",
      "SR :8000 F003_shraddha_5.wav\n",
      "SR :44100 F001_srishti_5.wav\n"
     ]
    },
    {
     "name": "stderr",
     "output_type": "stream",
     "text": [
      "WARNING:root:frame length (1103) is greater than FFT size (512), frame will be truncated. Increase NFFT to avoid.\n",
      "WARNING:root:frame length (1103) is greater than FFT size (512), frame will be truncated. Increase NFFT to avoid.\n"
     ]
    },
    {
     "name": "stdout",
     "output_type": "stream",
     "text": [
      "SR :44100 F001_srishti_1.wav\n",
      "SR :8000 M002_shubham_7.wav\n",
      "SR :8000 M005_abhinav_1.wav\n",
      "SR :44100 M001_rohan_3.wav\n"
     ]
    },
    {
     "name": "stderr",
     "output_type": "stream",
     "text": [
      "WARNING:root:frame length (1103) is greater than FFT size (512), frame will be truncated. Increase NFFT to avoid.\n"
     ]
    },
    {
     "name": "stdout",
     "output_type": "stream",
     "text": [
      "SR :8000 M005_abhinav_7.wav\n",
      "SR :8000 M004_sudesh_1.wav\n",
      "SR :44100 F001_srishti_7.wav"
     ]
    },
    {
     "name": "stderr",
     "output_type": "stream",
     "text": [
      "WARNING:root:frame length (1103) is greater than FFT size (512), frame will be truncated. Increase NFFT to avoid.\n"
     ]
    },
    {
     "name": "stdout",
     "output_type": "stream",
     "text": [
      "\n",
      "SR :44100 F001_srishti_8.wav\n",
      "SR :8000 F003_shraddha_4.wav\n"
     ]
    },
    {
     "name": "stderr",
     "output_type": "stream",
     "text": [
      "WARNING:root:frame length (1103) is greater than FFT size (512), frame will be truncated. Increase NFFT to avoid.\n"
     ]
    },
    {
     "name": "stdout",
     "output_type": "stream",
     "text": [
      "SR :8000 F004_aditi_6.wav\n",
      "SR :44100 F001_srishti_3.wav\n",
      "SR :8000 M004_sudesh_4.wav\n",
      "SR :8000 F004_aditi_7.wav\n"
     ]
    },
    {
     "name": "stderr",
     "output_type": "stream",
     "text": [
      "WARNING:root:frame length (1103) is greater than FFT size (512), frame will be truncated. Increase NFFT to avoid.\n",
      "WARNING:root:frame length (1103) is greater than FFT size (512), frame will be truncated. Increase NFFT to avoid.\n",
      "WARNING:root:frame length (1103) is greater than FFT size (512), frame will be truncated. Increase NFFT to avoid.\n"
     ]
    },
    {
     "name": "stdout",
     "output_type": "stream",
     "text": [
      "SR :8000 F004_aditi_1.wav\n",
      "SR :44100 F002_ritu_3.wav\n",
      "SR :44100 M001_rohan_1.wav\n",
      "SR :44100 F002_ritu_4.wav\n",
      "SR :8000 M004_sudesh_6.wav\n",
      "SR :8000 M005_abhinav_3.wav\n",
      "SR :8000 M002_shubham_4.wav"
     ]
    },
    {
     "name": "stderr",
     "output_type": "stream",
     "text": [
      "WARNING:root:frame length (1103) is greater than FFT size (512), frame will be truncated. Increase NFFT to avoid.\n",
      "WARNING:root:frame length (1103) is greater than FFT size (512), frame will be truncated. Increase NFFT to avoid.\n"
     ]
    },
    {
     "name": "stdout",
     "output_type": "stream",
     "text": [
      "\n",
      "SR :8000 F003_shraddha_3.wav\n",
      "SR :8000 M002_shubham_5.wav\n",
      "SR :44100 F002_ritu_1.wav\n",
      "SR :8000 M005_abhinav_6.wav\n"
     ]
    },
    {
     "name": "stderr",
     "output_type": "stream",
     "text": [
      "WARNING:root:frame length (1103) is greater than FFT size (512), frame will be truncated. Increase NFFT to avoid.\n",
      "WARNING:root:frame length (1103) is greater than FFT size (512), frame will be truncated. Increase NFFT to avoid.\n"
     ]
    },
    {
     "name": "stdout",
     "output_type": "stream",
     "text": [
      "SR :44100 M001_rohan_8.wav\n",
      "SR :8000 F003_shraddha_6.wav\n",
      "SR :44100 M001_rohan_7.wav\n",
      "SR :8000 F004_aditi_3.wav\n",
      "SR :44100 M003_punit_3.wav\n",
      "SR :8000 M002_shubham_3.wav\n",
      "SR :8000 M002_shubham_1.wav\n",
      "SR :8000 F003_shraddha_1.wav\n",
      "SR :8000 M002_shubham_2.wav\n"
     ]
    },
    {
     "name": "stderr",
     "output_type": "stream",
     "text": [
      "WARNING:root:frame length (1103) is greater than FFT size (512), frame will be truncated. Increase NFFT to avoid.\n"
     ]
    },
    {
     "name": "stdout",
     "output_type": "stream",
     "text": [
      "SR :8000 F004_aditi_5.wav\n",
      "SR :44100 F001_srishti_2.wav\n"
     ]
    },
    {
     "name": "stderr",
     "output_type": "stream",
     "text": [
      "WARNING:root:frame length (1103) is greater than FFT size (512), frame will be truncated. Increase NFFT to avoid.\n"
     ]
    },
    {
     "name": "stdout",
     "output_type": "stream",
     "text": [
      "SR :8000 F004_aditi_8.wav\n",
      "SR :8000 M004_sudesh_3.wav\n",
      "SR :44100 M003_punit_2.wav\n"
     ]
    },
    {
     "name": "stderr",
     "output_type": "stream",
     "text": [
      "WARNING:root:frame length (1103) is greater than FFT size (512), frame will be truncated. Increase NFFT to avoid.\n",
      "WARNING:root:frame length (1103) is greater than FFT size (512), frame will be truncated. Increase NFFT to avoid.\n"
     ]
    },
    {
     "name": "stdout",
     "output_type": "stream",
     "text": [
      "SR :8000 F003_shraddha_8.wav\n",
      "SR :44100 M001_rohan_2.wav\n",
      "SR :44100 F001_srishti_6.wav\n",
      "SR :8000 M005_abhinav_2.wav\n",
      "SR :8000 F004_aditi_4.wav\n",
      "SR :8000 M004_sudesh_8.wav\n",
      "SR :8000 M005_abhinav_5.wav\n"
     ]
    },
    {
     "name": "stderr",
     "output_type": "stream",
     "text": [
      "WARNING:root:frame length (1103) is greater than FFT size (512), frame will be truncated. Increase NFFT to avoid.\n"
     ]
    },
    {
     "name": "stdout",
     "output_type": "stream",
     "text": [
      "SR :8000 M005_abhinav_8.wav\n",
      "SR :8000 M002_shubham_6.wav\n",
      "SR :8000 M004_sudesh_2.wav\n"
     ]
    },
    {
     "name": "stderr",
     "output_type": "stream",
     "text": [
      "WARNING:root:frame length (1103) is greater than FFT size (512), frame will be truncated. Increase NFFT to avoid.\n",
      "WARNING:root:frame length (1103) is greater than FFT size (512), frame will be truncated. Increase NFFT to avoid.\n"
     ]
    },
    {
     "name": "stdout",
     "output_type": "stream",
     "text": [
      "SR :44100 F001_srishti_4.wav\n",
      "SR :44100 F002_ritu_2.wav\n",
      "SR :8000 F003_shraddha_7.wav\n"
     ]
    },
    {
     "name": "stderr",
     "output_type": "stream",
     "text": [
      "WARNING:root:frame length (1103) is greater than FFT size (512), frame will be truncated. Increase NFFT to avoid.\n"
     ]
    },
    {
     "name": "stdout",
     "output_type": "stream",
     "text": [
      "SR :44100 M001_rohan_5.wav\n",
      "SR :8000 M005_abhinav_4.wav\n",
      "SR :44100 M001_rohan_4.wav\n",
      "SR :8000 M004_sudesh_7.wav\n"
     ]
    },
    {
     "name": "stderr",
     "output_type": "stream",
     "text": [
      "WARNING:root:frame length (1103) is greater than FFT size (512), frame will be truncated. Increase NFFT to avoid.\n",
      "WARNING:root:frame length (1103) is greater than FFT size (512), frame will be truncated. Increase NFFT to avoid.\n"
     ]
    },
    {
     "name": "stdout",
     "output_type": "stream",
     "text": [
      "SR :44100 M003_punit_4.wav\n",
      "SR :44100 M003_punit_1.wav\n",
      "[array(2.1971192359924316, dtype=float32), array(0.6187878847122192, dtype=float32)]\n",
      "['loss', 'acc']\n",
      "6 6 6\n",
      "2 1 1\n",
      "4 4 4\n",
      "9 9 9\n",
      "2 2 2\n",
      "3 7 7\n",
      "7 9 9\n",
      "3 3 3\n",
      "1 1 1\n",
      "1 2 2\n",
      "7 7 7\n",
      "10 10 10\n",
      "6 6 6\n",
      "10 10 10\n",
      "9 10 10\n",
      "1 1 1\n",
      "1 1 1\n",
      "3 3 3\n",
      "4 4 4\n",
      "1 1 1\n",
      "9 7 7\n",
      "4 4 4\n",
      "4 4 4\n",
      "2 1 1\n",
      "6 6 6\n",
      "2 1 1\n",
      "9 10 10\n",
      "10 10 10\n",
      "7 7 7\n",
      "3 3 3\n",
      "7 7 7\n",
      "2 2 2\n",
      "10 10 10\n",
      "6 6 6\n",
      "3 4 4\n",
      "6 6 6\n",
      "4 4 4\n",
      "8 8 8\n",
      "7 3 3\n",
      "7 9 9\n",
      "3 4 4\n",
      "7 10 10\n",
      "4 4 4\n",
      "1 1 1\n",
      "4 4 4\n",
      "9 9 9\n",
      "8 8 8\n",
      "3 3 3\n",
      "6 6 6\n",
      "1 1 1\n",
      "10 10 10\n",
      "4 4 4\n",
      "9 9 9\n",
      "10 10 10\n",
      "10 7 7\n",
      "7 7 7\n",
      "9 7 7\n",
      "1 1 1\n",
      "2 1 1\n",
      "3 3 3\n",
      "6 6 6\n",
      "10 10 10\n",
      "6 6 6\n",
      "9 9 9\n",
      "8 8 8\n",
      "8 8 8\n",
      "Accuracy prob_diff: 49 of 66 - 0.7424242424242424\n",
      "Accuracy maj_diff: 49 of 66 - 0.7424242424242424\n"
     ]
    }
   ],
   "source": [
    "dense_cnn_model = dense_cnn_train()\n",
    "dense_cnn_test(dense_cnn_model)\n"
   ]
  },
  {
   "cell_type": "code",
   "execution_count": 29,
   "metadata": {
    "collapsed": true
   },
   "outputs": [],
   "source": [
    "def find_majority(k):\n",
    "    myMap = {}\n",
    "    maximum = ( '', 0 ) # (occurring element, occurrences)\n",
    "    for n in k:\n",
    "        if n in myMap: myMap[n] += 1\n",
    "        else: myMap[n] = 1\n",
    "\n",
    "        # Keep track of maximum on the go\n",
    "        if myMap[n] > maximum[1]: maximum = (n,myMap[n])\n",
    "\n",
    "    return maximum"
   ]
  },
  {
   "cell_type": "code",
   "execution_count": 356,
   "metadata": {
    "collapsed": true
   },
   "outputs": [],
   "source": [
    "# try removing lowpass for lower sample rate\n",
    "# w/o punit - 8 speakers\n",
    "# 67 67 70 dense\n",
    "# 80 74 74 cnn \n",
    "# 74 77 77 dense_cnn\n",
    "\n",
    "# with punit - up\n"
   ]
  },
  {
   "cell_type": "code",
   "execution_count": null,
   "metadata": {
    "collapsed": true
   },
   "outputs": [],
   "source": []
  }
 ],
 "metadata": {
  "kernelspec": {
   "display_name": "Python 3",
   "language": "python",
   "name": "python3"
  },
  "language_info": {
   "codemirror_mode": {
    "name": "ipython",
    "version": 3
   },
   "file_extension": ".py",
   "mimetype": "text/x-python",
   "name": "python",
   "nbconvert_exporter": "python",
   "pygments_lexer": "ipython3",
   "version": "3.6.2"
  }
 },
 "nbformat": 4,
 "nbformat_minor": 2
}
