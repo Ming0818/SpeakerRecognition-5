{
 "cells": [
  {
   "cell_type": "code",
   "execution_count": 1,
   "metadata": {
    "collapsed": true
   },
   "outputs": [],
   "source": [
    "import os\n",
    "\n",
    "from python_speech_features import mfcc\n",
    "from python_speech_features import delta\n",
    "from python_speech_features import logfbank\n",
    "import scipy.io.wavfile as wav"
   ]
  },
  {
   "cell_type": "code",
   "execution_count": 157,
   "metadata": {
    "collapsed": true
   },
   "outputs": [],
   "source": [
    "def get_feature_vectors(dataset_type):\n",
    "    \n",
    "    #set parameters for training and testing\n",
    "    if (dataset_type == \"train\"):\n",
    "        directory = os.path.join(os.getcwd(), 'data_thuyg20_sre/enroll')\n",
    "        no_of_frames = 400\n",
    "    elif (dataset_type == \"test\"):    \n",
    "        directory = os.path.join(os.getcwd(), 'data_thuyg20_sre/test')\n",
    "        no_of_frames = 40\n",
    "    \n",
    "    dataset = numpy.empty([0, 61])\n",
    "    \n",
    "    for file in os.listdir(directory):\n",
    "        \n",
    "        # filter speakers\n",
    "        names = ['F101', 'F102', 'F103', 'F104', 'F105', 'M101', 'M102', 'M103', 'M104']\n",
    "\n",
    "        if any(name in file for name in names):\n",
    "            \n",
    "            # extract mfcc vectors\n",
    "            (rate,sig) = wav.read(os.path.join(directory, file))\n",
    "            mfcc_feat = mfcc(sig,rate)\n",
    "            d_mfcc_feat = delta(mfcc_feat, 2)\n",
    "            dd_mfcc_feat = delta(d_mfcc_feat, 2)\n",
    "            \n",
    "#             fbank_feat = logfbank(sig,rate)\n",
    "            mfcc_vectors = mfcc_feat[11:11+no_of_frames,:]\n",
    "            dmfcc_vectors = d_mfcc_feat[11:11+no_of_frames,:]\n",
    "            ddmfcc_vectors = dd_mfcc_feat[11:11+no_of_frames,:]\n",
    "            \n",
    "            feature_vectors = numpy.hstack((mfcc_vectors, dmfcc_vectors, ddmfcc_vectors))\n",
    "#             print(feature_vectors.shape)\n",
    "            \n",
    "            # get speaker index from filename\n",
    "            speaker_index = file.split(\"_\")[0]\n",
    "            if speaker_index[0] == 'M':\n",
    "                speaker_index = 5 + int(speaker_index[3:])\n",
    "            else:\n",
    "                speaker_index = int(speaker_index[3:])\n",
    "\n",
    "            #append speaker index to feature vectors\n",
    "            np_speaker_index = numpy.array([speaker_index])\n",
    "            temp = numpy.tile(np_speaker_index[numpy.newaxis,:], (feature_vectors.shape[0],1))\n",
    "            concatenated_feature_vector = numpy.concatenate((feature_vectors,temp), axis=1)\n",
    "            \n",
    "            # append file's data to dataset\n",
    "            dataset = numpy.concatenate((dataset, concatenated_feature_vector), axis=0)\n",
    "            \n",
    "\n",
    "    return dataset\n"
   ]
  },
  {
   "cell_type": "code",
   "execution_count": 158,
   "metadata": {},
   "outputs": [],
   "source": [
    "from keras.models import Sequential\n",
    "import numpy as numpy "
   ]
  },
  {
   "cell_type": "code",
   "execution_count": 159,
   "metadata": {},
   "outputs": [],
   "source": [
    "# from numpy import genfromtxt\n",
    "my_data = get_feature_vectors(\"train\")\n"
   ]
  },
  {
   "cell_type": "code",
   "execution_count": 160,
   "metadata": {},
   "outputs": [
    {
     "name": "stdout",
     "output_type": "stream",
     "text": [
      "(3600, 61)\n"
     ]
    }
   ],
   "source": [
    "# print(my_data)\n",
    "print(my_data.shape)"
   ]
  },
  {
   "cell_type": "code",
   "execution_count": 161,
   "metadata": {},
   "outputs": [
    {
     "name": "stdout",
     "output_type": "stream",
     "text": [
      "(3600, 1)\n"
     ]
    }
   ],
   "source": [
    "Y = numpy.copy(my_data[:, 60:])\n",
    "print(Y.shape)"
   ]
  },
  {
   "cell_type": "code",
   "execution_count": 162,
   "metadata": {
    "scrolled": true
   },
   "outputs": [
    {
     "name": "stdout",
     "output_type": "stream",
     "text": [
      "(3600, 60)\n",
      "(1, 60)\n",
      "(1, 60)\n",
      "(3600, 60)\n"
     ]
    }
   ],
   "source": [
    "X = numpy.copy(my_data[:, :60])\n",
    "print(X.shape)\n",
    "mean = X.mean(0, keepdims=True)\n",
    "\n",
    "print(mean.shape)\n",
    "std_deviation = numpy.std(X, axis=0, keepdims=True)\n",
    "print(std_deviation.shape)\n",
    "\n",
    "normalized_X = (X - mean) / std_deviation\n",
    "print(normalized_X.shape)\n"
   ]
  },
  {
   "cell_type": "code",
   "execution_count": 163,
   "metadata": {},
   "outputs": [
    {
     "name": "stdout",
     "output_type": "stream",
     "text": [
      "[[ 0.  0.  0. ...,  0.  0.  0.]\n",
      " [ 0.  0.  0. ...,  0.  0.  0.]\n",
      " [ 0.  0.  0. ...,  0.  0.  0.]\n",
      " ..., \n",
      " [ 0.  0.  0. ...,  0.  0.  0.]\n",
      " [ 0.  0.  0. ...,  0.  0.  0.]\n",
      " [ 0.  0.  0. ...,  0.  0.  0.]]\n"
     ]
    }
   ],
   "source": [
    "from keras import utils as np_utils\n",
    "\n",
    "one_hot_labels = np_utils.to_categorical(Y, num_classes=10)\n",
    "print(one_hot_labels)"
   ]
  },
  {
   "cell_type": "code",
   "execution_count": 164,
   "metadata": {},
   "outputs": [
    {
     "name": "stdout",
     "output_type": "stream",
     "text": [
      "Epoch 1/10\n",
      "3600/3600 [==============================] - 7s 2ms/step - loss: 1.8930 - acc: 0.3453\n",
      "Epoch 2/10\n",
      "3600/3600 [==============================] - 8s 2ms/step - loss: 1.1476 - acc: 0.6286\n",
      "Epoch 3/10\n",
      "3600/3600 [==============================] - 8s 2ms/step - loss: 0.7905 - acc: 0.7531\n",
      "Epoch 4/10\n",
      "3600/3600 [==============================] - 7s 2ms/step - loss: 0.5917 - acc: 0.8069\n",
      "Epoch 5/10\n",
      "3600/3600 [==============================] - 8s 2ms/step - loss: 0.4743 - acc: 0.8478\n",
      "Epoch 6/10\n",
      "3600/3600 [==============================] - 8s 2ms/step - loss: 0.3883 - acc: 0.8736\n",
      "Epoch 7/10\n",
      "3600/3600 [==============================] - 8s 2ms/step - loss: 0.3195 - acc: 0.9006\n",
      "Epoch 8/10\n",
      "3600/3600 [==============================] - 8s 2ms/step - loss: 0.2763 - acc: 0.9139\n",
      "Epoch 9/10\n",
      "3600/3600 [==============================] - 8s 2ms/step - loss: 0.2448 - acc: 0.9242\n",
      "Epoch 10/10\n",
      "3600/3600 [==============================] - 8s 2ms/step - loss: 0.2109 - acc: 0.9361\n"
     ]
    },
    {
     "data": {
      "text/plain": [
       "<keras.callbacks.History at 0x7fd16322f6a0>"
      ]
     },
     "execution_count": 164,
     "metadata": {},
     "output_type": "execute_result"
    }
   ],
   "source": [
    "from keras.layers import Dense, Activation, Dropout\n",
    "from keras.optimizers import SGD\n",
    "\n",
    "# model = Sequential()\n",
    "# model.add(Dense(32, activation='relu', input_dim=12))\n",
    "# model.add(Dense(10, activation='softmax'))\n",
    "\n",
    "# model.compile(optimizer='rmsprop',\n",
    "#               loss='categorical_crossentropy',\n",
    "#               metrics=['accuracy'])\n",
    "\n",
    "# model.fit(normalized_X, one_hot_labels, epochs=10, batch_size=32)\n",
    "\n",
    "\n",
    "# MultiLayer Perceptron\n",
    "model = Sequential()\n",
    "\n",
    "model.add(Dense(2560, activation='relu', input_dim=60))\n",
    "model.add(Dropout(0.5))\n",
    "model.add(Dense(1024, activation='relu'))\n",
    "model.add(Dropout(0.5))\n",
    "model.add(Dense(10, activation='softmax'))\n",
    "\n",
    "sgd = SGD(lr=0.005, decay=1e-6, momentum=0.9, nesterov=True)\n",
    "model.compile(loss='categorical_crossentropy',\n",
    "              optimizer=sgd,\n",
    "              metrics=['accuracy'])\n",
    "\n",
    "model.fit(normalized_X, one_hot_labels, epochs=10, batch_size=32)\n",
    "# score = model.evaluate(x_test, y_test, batch_size=128)"
   ]
  },
  {
   "cell_type": "code",
   "execution_count": 165,
   "metadata": {},
   "outputs": [
    {
     "name": "stdout",
     "output_type": "stream",
     "text": [
      "(3600, 61)\n",
      "(3600, 60)\n",
      "(3600, 60)\n",
      "(3600, 1)\n"
     ]
    }
   ],
   "source": [
    "test_model = get_feature_vectors(\"test\")\n",
    "print(test_model.shape)\n",
    "\n",
    "test_X = numpy.copy(test_model[:, :60])\n",
    "print(test_X.shape)\n",
    "\n",
    "normalized_test_X = (test_X - mean) / std_deviation\n",
    "print(normalized_test_X.shape)\n",
    "\n",
    "test_Y = numpy.copy(test_model[:, 60:])\n",
    "print(test_Y.shape)\n",
    "test_labels = np_utils.to_categorical(test_Y, num_classes=10)\n"
   ]
  },
  {
   "cell_type": "code",
   "execution_count": 166,
   "metadata": {},
   "outputs": [
    {
     "name": "stdout",
     "output_type": "stream",
     "text": [
      "[array(7.74141263961792, dtype=float32), array(0.4580555558204651, dtype=float32)]\n",
      "['loss', 'acc']\n"
     ]
    }
   ],
   "source": [
    "print(model.test_on_batch(test_X, test_labels, sample_weight=None))\n",
    "print(model.metrics_names)\n",
    "predictions = model.predict(test_X)"
   ]
  },
  {
   "cell_type": "code",
   "execution_count": 167,
   "metadata": {
    "scrolled": true
   },
   "outputs": [
    {
     "name": "stdout",
     "output_type": "stream",
     "text": [
      "9 1\n",
      "2 1\n",
      "1 1\n",
      "6 6\n",
      "9 9\n",
      "4 2\n",
      "1 1\n",
      "4 1\n",
      "9 9\n",
      "1 1\n",
      "5 1\n",
      "5 5\n",
      "1 1\n",
      "1 1\n",
      "3 1\n",
      "9 9\n",
      "6 6\n",
      "6 6\n",
      "3 3\n",
      "5 1\n",
      "3 3\n",
      "5 7\n",
      "9 9\n",
      "9 9\n",
      "2 3\n",
      "4 1\n",
      "5 1\n",
      "6 6\n",
      "9 9\n",
      "2 2\n",
      "7 1\n",
      "4 1\n",
      "3 3\n",
      "1 1\n",
      "7 7\n",
      "9 9\n",
      "9 9\n",
      "1 1\n",
      "4 1\n",
      "1 1\n",
      "9 9\n",
      "5 5\n",
      "1 1\n",
      "4 1\n",
      "4 5\n",
      "6 6\n",
      "1 1\n",
      "1 1\n",
      "5 1\n",
      "3 1\n",
      "9 5\n",
      "1 1\n",
      "9 9\n",
      "1 1\n",
      "3 3\n",
      "9 9\n",
      "5 5\n",
      "6 6\n",
      "9 9\n",
      "5 1\n",
      "9 9\n",
      "9 9\n",
      "4 1\n",
      "9 9\n",
      "4 4\n",
      "1 2\n",
      "5 1\n",
      "4 2\n",
      "7 5\n",
      "1 1\n",
      "7 9\n",
      "6 6\n",
      "3 3\n",
      "8 5\n",
      "3 1\n",
      "2 2\n",
      "7 5\n",
      "3 1\n",
      "9 9\n",
      "3 3\n",
      "9 9\n",
      "7 1\n",
      "1 1\n",
      "1 1\n",
      "5 1\n",
      "3 3\n",
      "3 3\n",
      "9 9\n",
      "8 8\n",
      "5 1\n",
      "90\n",
      "57\n"
     ]
    }
   ],
   "source": [
    "b = [sum(predictions[current: current+40]) for current in range(0, len(predictions), 40)]\n",
    "predicted_Y = []\n",
    "for row in b:\n",
    "    predicted_Y.append(row.argmax(axis=0))\n",
    "    \n",
    "# print(predicted_Y)\n",
    "# print(test_Y[::40].T)\n",
    "\n",
    "for t, p in zip(test_Y[::40].T[0], predicted_Y):\n",
    "    print (int(t), p)\n",
    "\n",
    "diff = predicted_Y - test_Y[::40].T[0]\n",
    "\n",
    "print(len(predicted_Y))\n",
    "print(sum(x == 0 for x in diff))"
   ]
  },
  {
   "cell_type": "code",
   "execution_count": null,
   "metadata": {
    "collapsed": true
   },
   "outputs": [],
   "source": []
  }
 ],
 "metadata": {
  "kernelspec": {
   "display_name": "Python 3",
   "language": "python",
   "name": "python3"
  },
  "language_info": {
   "codemirror_mode": {
    "name": "ipython",
    "version": 3
   },
   "file_extension": ".py",
   "mimetype": "text/x-python",
   "name": "python",
   "nbconvert_exporter": "python",
   "pygments_lexer": "ipython3",
   "version": "3.6.2"
  }
 },
 "nbformat": 4,
 "nbformat_minor": 2
}
