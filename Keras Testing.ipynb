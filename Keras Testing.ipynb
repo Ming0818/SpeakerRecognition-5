{
 "cells": [
  {
   "cell_type": "code",
   "execution_count": 1,
   "metadata": {
    "collapsed": true
   },
   "outputs": [],
   "source": [
    "import os\n",
    "\n",
    "from python_speech_features import mfcc\n",
    "from python_speech_features import delta\n",
    "from python_speech_features import logfbank\n",
    "import scipy.io.wavfile as wav\n",
    "from random import randint\n",
    "# import librosa\n",
    "\n",
    "# import tensorflow as tf"
   ]
  },
  {
   "cell_type": "code",
   "execution_count": 26,
   "metadata": {
    "collapsed": true
   },
   "outputs": [],
   "source": [
    "file_array = os.listdir(\"/home/rohan/BE_project/raw/enroll\");\n",
    "for file_name in file_array :\n",
    "#/home/punit/Downloads/test/{}  directory which contains raw files \n",
    "#/home/punit/Downloads/processed/{} directory which contains processed files\n",
    "#install sox before the script is run. \n",
    "#Meaning of parameters refer this article https://digitalcardboard.com/blog/2009/08/25/the-sox-of-silence/\n",
    "#     os.system(\"rm -f /home/rohan/BE_project/raw/enroll_processed/*\")\n",
    "# 0.3 -70d -1 0.1 1% - 57\n",
    "    cmd = \"sox /home/rohan/BE_project/raw/enroll/{} /home/rohan/BE_project/raw/enroll_processed/{} silence 1 0.3 -70d -1 0.1 1%\".format(file_name, file_name)\n",
    "#     print(cmd);\n",
    "    os.system(cmd);"
   ]
  },
  {
   "cell_type": "code",
   "execution_count": 27,
   "metadata": {
    "collapsed": true
   },
   "outputs": [],
   "source": [
    "file_array = os.listdir(\"/home/rohan/BE_project/raw/test\");\n",
    "for file_name in file_array :\n",
    "#/home/punit/Downloads/test/{}  directory which contains raw files \n",
    "#/home/punit/Downloads/processed/{} directory which contains processed files\n",
    "#install sox before the script is run. \n",
    "#Meaning of parameters refer this article https://digitalcardboard.com/blog/2009/08/25/the-sox-of-silence/\n",
    "#     os.system(\"rm -f /home/rohan/BE_project/raw/test_processed/*\")\n",
    "    cmd = \"sox /home/rohan/BE_project/raw/test/{} /home/rohan/BE_project/raw/test_processed/{} silence 1 0.2 -70d -1 0.1 1%\".format(file_name, file_name)\n",
    "#     print(cmd);\n",
    "    os.system(cmd);"
   ]
  },
  {
   "cell_type": "code",
   "execution_count": 98,
   "metadata": {
    "collapsed": true
   },
   "outputs": [],
   "source": [
    "# every frame is considered independent\n",
    "\n",
    "no_of_features = 13\n",
    "no_of_fbank_features = 13\n",
    "no_of_columns = (3 * no_of_features) + no_of_fbank_features\n",
    "test_frames = 40\n",
    "classes = 10\n",
    "\n",
    "def get_feature_vectors(dataset_type):\n",
    "    \n",
    "    #set parameters for training and testing\n",
    "    if (dataset_type == \"train\"):\n",
    "#         directory = os.path.join(os.getcwd(), 'data_thuyg20_sre/enroll')\n",
    "        directory = os.path.join(os.getcwd(), 'raw/enroll_processed')\n",
    "        no_of_frames = 800\n",
    "        start_frame = 10\n",
    "    elif (dataset_type == \"test\"):    \n",
    "#         directory = os.path.join(os.getcwd(), 'data_thuyg20_sre/test')\n",
    "        directory = os.path.join(os.getcwd(), 'raw/test_processed')\n",
    "        no_of_frames = test_frames\n",
    "        start_frame = 1\n",
    "        \n",
    "    dataset = numpy.empty([0, no_of_columns + 1])\n",
    "    \n",
    "    for file in os.listdir(directory):\n",
    "        \n",
    "        # filter speakers\n",
    "        n = int(classes/2)\n",
    "#         print(n)\n",
    "        names = []\n",
    "        \n",
    "        for i in range (1, n+1):\n",
    "            names.append('F0' + '%02d'%(i))\n",
    "            names.append('M0' + '%02d'%(i))\n",
    "\n",
    "        if any(name in file for name in names):\n",
    "            \n",
    "            # extract mfcc vectors\n",
    "#             print(file)\n",
    "            (rate,sig) = wav.read(os.path.join(directory, file))\n",
    "            fbank_feat = logfbank(sig,rate)\n",
    "            mfcc_feat = mfcc(sig,rate,winlen=0.032,winstep=0.016,numcep=13,nfft=2048)\n",
    "            \n",
    "#             print(\"Signal :\" + str(sig) + \" \" + file)\n",
    "#             y, sr = librosa.load(os.path.join(directory, file))\n",
    "#             mfcc_feat = librosa.feature.mfcc(y=y, sr=sr, n_mfcc=13, n_fft=2048).T\n",
    "            d_mfcc_feat = delta(mfcc_feat, 2)\n",
    "            dd_mfcc_feat = delta(d_mfcc_feat, 2)\n",
    "            \n",
    "#             fbank_feat = logfbank(sig,rate)\n",
    "            mfcc_vectors = mfcc_feat[start_frame:start_frame+no_of_frames,:no_of_features]\n",
    "            dmfcc_vectors = d_mfcc_feat[start_frame:start_frame+no_of_frames,:no_of_features]\n",
    "            ddmfcc_vectors = dd_mfcc_feat[start_frame:start_frame+no_of_frames,:no_of_features]\n",
    "            fbank_vectors = fbank_feat[start_frame:start_frame+no_of_frames,:no_of_fbank_features]\n",
    "            \n",
    "            feature_vectors = numpy.hstack((mfcc_vectors, dmfcc_vectors, ddmfcc_vectors, fbank_vectors))\n",
    "#             print(feature_vectors.shape)\n",
    "            \n",
    "            # get speaker index from filename\n",
    "            speaker_index = file.split(\"_\")[0]\n",
    "            if speaker_index[0] == 'M':\n",
    "                speaker_index = n + int(speaker_index[3:])\n",
    "            else:\n",
    "                speaker_index = int(speaker_index[3:])\n",
    "\n",
    "            #append speaker index to feature vectors\n",
    "            np_speaker_index = numpy.array([speaker_index])\n",
    "            temp = numpy.tile(np_speaker_index[numpy.newaxis,:], (feature_vectors.shape[0],1))\n",
    "            concatenated_feature_vector = numpy.concatenate((feature_vectors,temp), axis=1)\n",
    "            \n",
    "#             print(concatenated_feature_vector.shape)\n",
    "#             print(fbank_vectors.shape)\n",
    "            \n",
    "            # append file's data to dataset\n",
    "            dataset = numpy.concatenate((dataset, concatenated_feature_vector), axis=0)\n",
    "            \n",
    "\n",
    "    return dataset\n"
   ]
  },
  {
   "cell_type": "code",
   "execution_count": 99,
   "metadata": {},
   "outputs": [],
   "source": [
    "from keras.models import Sequential\n",
    "import numpy as numpy "
   ]
  },
  {
   "cell_type": "code",
   "execution_count": 100,
   "metadata": {
    "scrolled": true
   },
   "outputs": [
    {
     "name": "stderr",
     "output_type": "stream",
     "text": [
      "WARNING:root:frame length (1103) is greater than FFT size (512), frame will be truncated. Increase NFFT to avoid.\n",
      "WARNING:root:frame length (1103) is greater than FFT size (512), frame will be truncated. Increase NFFT to avoid.\n",
      "WARNING:root:frame length (1103) is greater than FFT size (512), frame will be truncated. Increase NFFT to avoid.\n"
     ]
    }
   ],
   "source": [
    "# from numpy import genfromtxt\n",
    "my_data = get_feature_vectors(\"train\")\n",
    "# get_feature_vectors(\"test\")"
   ]
  },
  {
   "cell_type": "code",
   "execution_count": 101,
   "metadata": {
    "scrolled": true
   },
   "outputs": [
    {
     "name": "stdout",
     "output_type": "stream",
     "text": [
      "(6400, 53)\n"
     ]
    }
   ],
   "source": [
    "# numpy.set_printoptions(threshold=numpy.nan)\n",
    "# print(my_data)\n",
    "print(my_data.shape)"
   ]
  },
  {
   "cell_type": "code",
   "execution_count": 102,
   "metadata": {},
   "outputs": [
    {
     "name": "stdout",
     "output_type": "stream",
     "text": [
      "(6400, 1)\n"
     ]
    }
   ],
   "source": [
    "Y = numpy.copy(my_data[:, no_of_columns:])\n",
    "print(Y.shape)"
   ]
  },
  {
   "cell_type": "code",
   "execution_count": 103,
   "metadata": {
    "scrolled": true
   },
   "outputs": [
    {
     "name": "stdout",
     "output_type": "stream",
     "text": [
      "(6400, 52)\n",
      "(1, 52)\n",
      "(1, 52)\n",
      "(6400, 52)\n"
     ]
    }
   ],
   "source": [
    "X = numpy.copy(my_data[:, :no_of_columns])\n",
    "print(X.shape)\n",
    "mean = X.mean(0, keepdims=True)\n",
    "\n",
    "print(mean.shape)\n",
    "std_deviation = numpy.std(X, axis=0, keepdims=True)\n",
    "print(std_deviation.shape)\n",
    "\n",
    "normalized_X = (X - mean) / std_deviation\n",
    "print(normalized_X.shape)\n"
   ]
  },
  {
   "cell_type": "code",
   "execution_count": 104,
   "metadata": {},
   "outputs": [
    {
     "name": "stdout",
     "output_type": "stream",
     "text": [
      "[[ 0.  0.  1. ...,  0.  0.  0.]\n",
      " [ 0.  0.  1. ...,  0.  0.  0.]\n",
      " [ 0.  0.  1. ...,  0.  0.  0.]\n",
      " ..., \n",
      " [ 0.  0.  0. ...,  0.  0.  0.]\n",
      " [ 0.  0.  0. ...,  0.  0.  0.]\n",
      " [ 0.  0.  0. ...,  0.  0.  0.]]\n"
     ]
    }
   ],
   "source": [
    "from keras import utils as np_utils\n",
    "from keras.layers import Dense, Activation, Dropout\n",
    "from keras.optimizers import SGD\n",
    "\n",
    "one_hot_labels = np_utils.to_categorical(Y, num_classes=classes+1)\n",
    "print(one_hot_labels)"
   ]
  },
  {
   "cell_type": "code",
   "execution_count": 105,
   "metadata": {
    "scrolled": false
   },
   "outputs": [
    {
     "name": "stdout",
     "output_type": "stream",
     "text": [
      "Epoch 1/10\n",
      "6400/6400 [==============================] - 12s 2ms/step - loss: 1.1709 - acc: 0.5605\n",
      "Epoch 2/10\n",
      "6400/6400 [==============================] - 15s 2ms/step - loss: 0.7310 - acc: 0.7128\n",
      "Epoch 3/10\n",
      "6400/6400 [==============================] - 12s 2ms/step - loss: 0.5370 - acc: 0.7980\n",
      "Epoch 4/10\n",
      "6400/6400 [==============================] - 12s 2ms/step - loss: 0.4226 - acc: 0.8436\n",
      "Epoch 5/10\n",
      "6400/6400 [==============================] - 16s 2ms/step - loss: 0.3160 - acc: 0.8897\n",
      "Epoch 6/10\n",
      "6400/6400 [==============================] - 14s 2ms/step - loss: 0.2502 - acc: 0.9113\n",
      "Epoch 7/10\n",
      "6400/6400 [==============================] - 12s 2ms/step - loss: 0.1868 - acc: 0.9339\n",
      "Epoch 8/10\n",
      "6400/6400 [==============================] - 12s 2ms/step - loss: 0.1434 - acc: 0.9563\n",
      "Epoch 9/10\n",
      "6400/6400 [==============================] - 19s 3ms/step - loss: 0.1205 - acc: 0.9658\n",
      "Epoch 10/10\n",
      "6400/6400 [==============================] - 15s 2ms/step - loss: 0.0906 - acc: 0.9770\n"
     ]
    },
    {
     "name": "stderr",
     "output_type": "stream",
     "text": [
      "WARNING:root:frame length (1103) is greater than FFT size (512), frame will be truncated. Increase NFFT to avoid.\n",
      "WARNING:root:frame length (1103) is greater than FFT size (512), frame will be truncated. Increase NFFT to avoid.\n",
      "WARNING:root:frame length (1103) is greater than FFT size (512), frame will be truncated. Increase NFFT to avoid.\n",
      "WARNING:root:frame length (1103) is greater than FFT size (512), frame will be truncated. Increase NFFT to avoid.\n",
      "WARNING:root:frame length (1103) is greater than FFT size (512), frame will be truncated. Increase NFFT to avoid.\n",
      "WARNING:root:frame length (1103) is greater than FFT size (512), frame will be truncated. Increase NFFT to avoid.\n",
      "WARNING:root:frame length (1103) is greater than FFT size (512), frame will be truncated. Increase NFFT to avoid.\n",
      "WARNING:root:frame length (1103) is greater than FFT size (512), frame will be truncated. Increase NFFT to avoid.\n",
      "WARNING:root:frame length (1103) is greater than FFT size (512), frame will be truncated. Increase NFFT to avoid.\n",
      "WARNING:root:frame length (1103) is greater than FFT size (512), frame will be truncated. Increase NFFT to avoid.\n",
      "WARNING:root:frame length (1103) is greater than FFT size (512), frame will be truncated. Increase NFFT to avoid.\n",
      "WARNING:root:frame length (1103) is greater than FFT size (512), frame will be truncated. Increase NFFT to avoid.\n",
      "WARNING:root:frame length (1103) is greater than FFT size (512), frame will be truncated. Increase NFFT to avoid.\n",
      "WARNING:root:frame length (1103) is greater than FFT size (512), frame will be truncated. Increase NFFT to avoid.\n",
      "WARNING:root:frame length (1103) is greater than FFT size (512), frame will be truncated. Increase NFFT to avoid.\n",
      "WARNING:root:frame length (1103) is greater than FFT size (512), frame will be truncated. Increase NFFT to avoid.\n",
      "WARNING:root:frame length (1103) is greater than FFT size (512), frame will be truncated. Increase NFFT to avoid.\n",
      "WARNING:root:frame length (1103) is greater than FFT size (512), frame will be truncated. Increase NFFT to avoid.\n",
      "WARNING:root:frame length (1103) is greater than FFT size (512), frame will be truncated. Increase NFFT to avoid.\n",
      "WARNING:root:frame length (1103) is greater than FFT size (512), frame will be truncated. Increase NFFT to avoid.\n",
      "WARNING:root:frame length (1103) is greater than FFT size (512), frame will be truncated. Increase NFFT to avoid.\n",
      "WARNING:root:frame length (1103) is greater than FFT size (512), frame will be truncated. Increase NFFT to avoid.\n"
     ]
    },
    {
     "name": "stdout",
     "output_type": "stream",
     "text": [
      "[array(3.5986104011535645, dtype=float32), array(0.35080644488334656, dtype=float32)]\n",
      "['loss', 'acc']\n",
      "6 6 6\n",
      "2 2 2\n",
      "4 7 7\n",
      "9 7 7\n",
      "2 1 1\n",
      "3 7 7\n",
      "7 7 7\n",
      "3 7 7\n",
      "1 1 1\n",
      "1 1 1\n",
      "7 7 7\n",
      "10 7 7\n",
      "6 6 6\n",
      "10 7 7\n",
      "9 7 7\n",
      "1 1 1\n",
      "1 1 9\n",
      "3 7 7\n",
      "4 4 4\n",
      "1 1 1\n",
      "9 7 7\n",
      "4 7 7\n",
      "4 7 7\n",
      "2 2 2\n",
      "6 1 1\n",
      "2 2 2\n",
      "9 7 7\n",
      "10 7 7\n",
      "7 7 7\n",
      "3 7 7\n",
      "7 7 7\n",
      "2 2 2\n",
      "10 7 7\n",
      "6 10 10\n",
      "3 7 7\n",
      "6 1 1\n",
      "4 7 7\n",
      "7 7 7\n",
      "7 7 7\n",
      "3 7 7\n",
      "7 7 7\n",
      "4 10 10\n",
      "1 1 1\n",
      "4 7 7\n",
      "9 7 7\n",
      "3 7 7\n",
      "6 6 1\n",
      "1 1 1\n",
      "10 7 7\n",
      "4 7 7\n",
      "9 7 7\n",
      "10 7 7\n",
      "10 7 7\n",
      "7 7 7\n",
      "9 7 7\n",
      "1 1 1\n",
      "2 1 1\n",
      "3 7 7\n",
      "6 1 1\n",
      "10 7 7\n",
      "6 6 6\n",
      "9 7 7\n",
      "Accuracy prob_diff: 25 of 62 - 0.4032258064516129\n",
      "Accuracy maj_diff: 23 of 62 - 0.3709677419354839\n"
     ]
    }
   ],
   "source": [
    "cnn_model = cnn_train()\n",
    "test_cnn(cnn_model)"
   ]
  },
  {
   "cell_type": "code",
   "execution_count": 106,
   "metadata": {},
   "outputs": [],
   "source": [
    "def train():\n",
    "\n",
    "    # MultiLayer Perceptron\n",
    "    model = Sequential()\n",
    "\n",
    "    # 3000 0.6 1500 0.6 -> 57% acc\n",
    "    # 2560 0.7 1280 0.7 -> cnn_model = cnn_train()\n",
    "# test_cnn(cnn_model)60% acc\n",
    "    # 2560 0.7 1600 0.7 -> 51% acc\n",
    "    # 2560 0.6 1600 0.7 -> 49%\n",
    "    # 2560 0.7 1280 -   -> 50\n",
    "    # 3000 0.7 1280 0.7 -> 54% acc\n",
    "    # 2560 0.7 1280 0.8 -> 45% acc\n",
    "\n",
    "    model.add(Dense(3000, activation='tanh', input_dim=no_of_columns))\n",
    "    model.add(Dense(100, activation='tanh'))\n",
    "    model.add(Dropout(0.3))\n",
    "    model.add(Dense(100, activation='tanh'))\n",
    "    model.add(Dropout(0.3))\n",
    "    model.add(Dense(100, activation='tanh'))\n",
    "    model.add(Dropout(0.3))\n",
    "    model.add(Dense(100, activation='tanh'))\n",
    "    model.add(Dropout(0.3))\n",
    "    \n",
    "    model.add(Dense(classes+1, activation='softmax'))\n",
    "\n",
    "    sgd = SGD(lr=0.01, decay=1e-5, momentum=0.9, nesterov=True)\n",
    "    model.compile(loss='categorical_crossentropy',\n",
    "                  optimizer=sgd,\n",
    "                  metrics=['accuracy'])\n",
    "\n",
    "    model.fit(normalized_X, one_hot_labels, epochs=20, batch_size=32)\n",
    "    \n",
    "    return model\n",
    "# score = model.evaluate(x_test, y_test, batch_size=128)"
   ]
  },
  {
   "cell_type": "code",
   "execution_count": 107,
   "metadata": {
    "collapsed": true
   },
   "outputs": [],
   "source": [
    "def test(model):\n",
    "    \n",
    "    test_model = get_feature_vectors(\"test\")\n",
    "    print(test_model.shape)\n",
    "\n",
    "    test_X = numpy.copy(test_model[:, :no_of_columns])\n",
    "#     print(test_X.shape)\n",
    "\n",
    "    normalized_test_X = (test_X - mean) / std_deviation\n",
    "#     print(normalized_test_X.shape)\n",
    "\n",
    "    test_Y = numpy.copy(test_model[:, no_of_columns:])\n",
    "#     print(test_Y.shape)\n",
    "    test_labels = np_utils.to_categorical(test_Y, num_classes=classes+1)\n",
    "\n",
    "#     print(model.test_on_batch(test_X, test_labels, sample_weight=None))\n",
    "#     print(model.metrics_names)\n",
    "    predictions = model.predict(test_X)\n",
    "    \n",
    "    b = [sum(predictions[current: current+test_frames]) for current in range(0, len(predictions), test_frames)]\n",
    "    predicted_Y = []\n",
    "    for row in b:\n",
    "        predicted_Y.append(row.argmax(axis=0))\n",
    "    \n",
    "    for t, p in zip(test_Y[::test_frames].T[0], predicted_Y):\n",
    "        print (int(t), p)\n",
    "    \n",
    "    diff = predicted_Y - test_Y[::test_frames].T[0]\n",
    "    correct = sum(x == 0 for x in diff)\n",
    "    total = len(predicted_Y)\n",
    "    percent = correct/total * 100\n",
    "    print(str(correct) + \" / \" + str(total) + \" = \" + str(percent))\n",
    "    \n",
    "    loss = str(numpy.sum(numpy.abs(diff)))\n",
    "    print(\"Loss = \" + loss)\n",
    "    \n",
    "    return correct, percent, loss"
   ]
  },
  {
   "cell_type": "code",
   "execution_count": 108,
   "metadata": {
    "scrolled": true
   },
   "outputs": [
    {
     "name": "stdout",
     "output_type": "stream",
     "text": [
      "Epoch 1/20\n",
      "6400/6400 [==============================] - 4s 621us/step - loss: 1.2456 - acc: 0.5211\n",
      "Epoch 2/20\n",
      "6400/6400 [==============================] - 5s 705us/step - loss: 0.8899 - acc: 0.6548\n",
      "Epoch 3/20\n",
      "6400/6400 [==============================] - 4s 658us/step - loss: 0.8141 - acc: 0.6975\n",
      "Epoch 4/20\n",
      "6400/6400 [==============================] - 4s 637us/step - loss: 0.7322 - acc: 0.7216\n",
      "Epoch 5/20\n",
      "6400/6400 [==============================] - 4s 654us/step - loss: 0.6895 - acc: 0.7466\n",
      "Epoch 6/20\n",
      "6400/6400 [==============================] - 6s 907us/step - loss: 0.6371 - acc: 0.7641\n",
      "Epoch 7/20\n",
      "6400/6400 [==============================] - 7s 1ms/step - loss: 0.6065 - acc: 0.7775\n",
      "Epoch 8/20\n",
      "6400/6400 [==============================] - 10s 2ms/step - loss: 0.5722 - acc: 0.7903\n",
      "Epoch 9/20\n",
      "6400/6400 [==============================] - 8s 1ms/step - loss: 0.5488 - acc: 0.8017\n",
      "Epoch 10/20\n",
      "6400/6400 [==============================] - 7s 1ms/step - loss: 0.5231 - acc: 0.8091\n",
      "Epoch 11/20\n",
      "6400/6400 [==============================] - 8s 1ms/step - loss: 0.5068 - acc: 0.8134\n",
      "Epoch 12/20\n",
      "6400/6400 [==============================] - 8s 1ms/step - loss: 0.4907 - acc: 0.8245\n",
      "Epoch 13/20\n",
      "6400/6400 [==============================] - 7s 1ms/step - loss: 0.4783 - acc: 0.8336\n",
      "Epoch 14/20\n",
      "6400/6400 [==============================] - 5s 858us/step - loss: 0.4470 - acc: 0.8367\n",
      "Epoch 15/20\n",
      "6400/6400 [==============================] - 6s 1ms/step - loss: 0.4340 - acc: 0.8444\n",
      "Epoch 16/20\n",
      "6400/6400 [==============================] - 5s 823us/step - loss: 0.4292 - acc: 0.8464\n",
      "Epoch 17/20\n",
      "6400/6400 [==============================] - 7s 1ms/step - loss: 0.4175 - acc: 0.8484\n",
      "Epoch 18/20\n",
      "6400/6400 [==============================] - 4s 634us/step - loss: 0.3949 - acc: 0.8566\n",
      "Epoch 19/20\n",
      "6400/6400 [==============================] - 5s 742us/step - loss: 0.3937 - acc: 0.8634\n",
      "Epoch 20/20\n",
      "6400/6400 [==============================] - 5s 787us/step - loss: 0.3913 - acc: 0.8644\n"
     ]
    },
    {
     "name": "stderr",
     "output_type": "stream",
     "text": [
      "WARNING:root:frame length (1103) is greater than FFT size (512), frame will be truncated. Increase NFFT to avoid.\n",
      "WARNING:root:frame length (1103) is greater than FFT size (512), frame will be truncated. Increase NFFT to avoid.\n",
      "WARNING:root:frame length (1103) is greater than FFT size (512), frame will be truncated. Increase NFFT to avoid.\n",
      "WARNING:root:frame length (1103) is greater than FFT size (512), frame will be truncated. Increase NFFT to avoid.\n",
      "WARNING:root:frame length (1103) is greater than FFT size (512), frame will be truncated. Increase NFFT to avoid.\n",
      "WARNING:root:frame length (1103) is greater than FFT size (512), frame will be truncated. Increase NFFT to avoid.\n",
      "WARNING:root:frame length (1103) is greater than FFT size (512), frame will be truncated. Increase NFFT to avoid.\n",
      "WARNING:root:frame length (1103) is greater than FFT size (512), frame will be truncated. Increase NFFT to avoid.\n",
      "WARNING:root:frame length (1103) is greater than FFT size (512), frame will be truncated. Increase NFFT to avoid.\n",
      "WARNING:root:frame length (1103) is greater than FFT size (512), frame will be truncated. Increase NFFT to avoid.\n",
      "WARNING:root:frame length (1103) is greater than FFT size (512), frame will be truncated. Increase NFFT to avoid.\n",
      "WARNING:root:frame length (1103) is greater than FFT size (512), frame will be truncated. Increase NFFT to avoid.\n",
      "WARNING:root:frame length (1103) is greater than FFT size (512), frame will be truncated. Increase NFFT to avoid.\n",
      "WARNING:root:frame length (1103) is greater than FFT size (512), frame will be truncated. Increase NFFT to avoid.\n",
      "WARNING:root:frame length (1103) is greater than FFT size (512), frame will be truncated. Increase NFFT to avoid.\n",
      "WARNING:root:frame length (1103) is greater than FFT size (512), frame will be truncated. Increase NFFT to avoid.\n",
      "WARNING:root:frame length (1103) is greater than FFT size (512), frame will be truncated. Increase NFFT to avoid.\n",
      "WARNING:root:frame length (1103) is greater than FFT size (512), frame will be truncated. Increase NFFT to avoid.\n",
      "WARNING:root:frame length (1103) is greater than FFT size (512), frame will be truncated. Increase NFFT to avoid.\n",
      "WARNING:root:frame length (1103) is greater than FFT size (512), frame will be truncated. Increase NFFT to avoid.\n",
      "WARNING:root:frame length (1103) is greater than FFT size (512), frame will be truncated. Increase NFFT to avoid.\n",
      "WARNING:root:frame length (1103) is greater than FFT size (512), frame will be truncated. Increase NFFT to avoid.\n"
     ]
    },
    {
     "name": "stdout",
     "output_type": "stream",
     "text": [
      "(2480, 53)\n",
      "6 2\n",
      "2 2\n",
      "4 4\n",
      "9 9\n",
      "2 2\n",
      "3 3\n",
      "7 10\n",
      "3 3\n",
      "1 1\n",
      "1 1\n",
      "7 10\n",
      "10 10\n",
      "6 6\n",
      "10 10\n",
      "9 10\n",
      "1 1\n",
      "1 1\n",
      "3 3\n",
      "4 4\n",
      "1 1\n",
      "9 9\n",
      "4 10\n",
      "4 4\n",
      "2 2\n",
      "6 1\n",
      "2 1\n",
      "9 9\n",
      "10 10\n",
      "7 10\n",
      "3 3\n",
      "7 10\n",
      "2 6\n",
      "10 10\n",
      "6 1\n",
      "3 3\n",
      "6 1\n",
      "4 10\n",
      "7 10\n",
      "7 10\n",
      "3 10\n",
      "7 10\n",
      "4 4\n",
      "1 1\n",
      "4 4\n",
      "9 10\n",
      "3 3\n",
      "6 1\n",
      "1 1\n",
      "10 10\n",
      "4 4\n",
      "9 10\n",
      "10 9\n",
      "10 3\n",
      "7 10\n",
      "9 10\n",
      "1 1\n",
      "2 1\n",
      "3 3\n",
      "6 1\n",
      "10 10\n",
      "6 6\n",
      "9 9\n",
      "36 / 62 = 58.064516129\n",
      "Loss = 90.0\n"
     ]
    },
    {
     "data": {
      "text/plain": [
       "(36, 58.064516129032263, '90.0')"
      ]
     },
     "execution_count": 108,
     "metadata": {},
     "output_type": "execute_result"
    }
   ],
   "source": [
    "model = train()\n",
    "test(model)"
   ]
  },
  {
   "cell_type": "code",
   "execution_count": 72,
   "metadata": {
    "collapsed": true
   },
   "outputs": [],
   "source": [
    "from keras.models import Sequential\n",
    "from keras.layers import Dense, Dropout, Activation, Flatten\n",
    "from keras.layers import Convolution1D, MaxPooling1D\n",
    "from keras.utils import np_utils\n",
    "\n",
    "from matplotlib import pyplot as plt\n",
    "\n",
    "def cnn_train():\n",
    "    \n",
    "    temp = normalized_X.reshape(normalized_X.shape[0], no_of_columns, 1)\n",
    "    \n",
    "    model = Sequential()\n",
    "    # 13 7 1 1 0.25 60 0.25 10 - 70%\n",
    "    model.add(Convolution1D(52, 13, activation='tanh', input_shape=(no_of_columns,1)))\n",
    "    model.add(Convolution1D(52, 7, activation='tanh', use_bias=True))\n",
    "    model.add(Convolution1D(13, 3, activation='tanh', use_bias=True))\n",
    "    # stride = 2 - 70\n",
    "    # 20, 10, 17 op - 64\n",
    "    \n",
    "    model.add(MaxPooling1D(pool_size=(1)))\n",
    "#     model.add(Dropout(0.25))\n",
    "    model.add(Flatten())\n",
    "    model.add(Dense(500, activation='tanh'))\n",
    "    model.add(Dropout(0.25))\n",
    "    \n",
    "    # 0.4 70\n",
    "    model.add(Dense(classes+1, activation='softmax'))\n",
    "\n",
    "    model.compile(loss='categorical_crossentropy', optimizer='adam', metrics=['accuracy'])\n",
    "\n",
    "    model.fit(temp, one_hot_labels, epochs=classes if classes > 10 else 10, batch_size=32)\n",
    "    return model"
   ]
  },
  {
   "cell_type": "code",
   "execution_count": 73,
   "metadata": {
    "collapsed": true
   },
   "outputs": [],
   "source": [
    "def test_cnn(model):\n",
    "    \n",
    "    test_model = get_feature_vectors(\"test\")\n",
    "#     print(test_model.shape)\n",
    "\n",
    "    test_X = numpy.copy(test_model[:, :no_of_columns])\n",
    "#     print(test_X.shape)\n",
    "\n",
    "    normalized_test_X = (test_X - mean) / std_deviation\n",
    "#     print(normalized_test_X.shape)\n",
    "\n",
    "    test_Y = numpy.copy(test_model[:, no_of_columns:])\n",
    "#     print(test_Y.shape)\n",
    "    test_labels = np_utils.to_categorical(test_Y, num_classes=classes+1)\n",
    "    \n",
    "    test_X = test_X.reshape(test_X.shape[0], no_of_columns, 1)\n",
    "    normalized_test_X = normalized_test_X.reshape(normalized_test_X.shape[0], no_of_columns, 1)\n",
    "    \n",
    "    print(model.test_on_batch(test_X, test_labels, sample_weight=None))\n",
    "    print(model.metrics_names)\n",
    "    predictions = model.predict(test_X)\n",
    "\n",
    "    b = [sum(predictions[current: current+test_frames]) for current in range(0, len(predictions), test_frames)]\n",
    "    predicted_Y = []\n",
    "    for row in b:\n",
    "        predicted_Y.append(row.argmax(axis=0))\n",
    "\n",
    "    # print(predicted_Y)\n",
    "    # print(test_Y[::40].T)\n",
    "    \n",
    "    indices = numpy.argmax(predictions, axis=1)\n",
    "    majority = []\n",
    "    \n",
    "    for i in range(0, len(indices), test_frames):\n",
    "        majority.append(find_majority(indices[i:i + test_frames]))\n",
    "        \n",
    "#     majority = \n",
    "    for t, p, m in zip(test_Y[::test_frames].T[0], predicted_Y, majority):\n",
    "        print(int(t), p, m[0])\n",
    "    \n",
    "#     for t, p in zip(test_Y.T[0], indices):\n",
    "#         print(int(t), p)\n",
    "    \n",
    "    \n",
    "    diff = predicted_Y - test_Y[::test_frames].T[0]\n",
    "    maj_diff = numpy.array(majority)[:, 0] - test_Y[::test_frames].T[0]\n",
    "\n",
    "    numerator = sum(x == 0 for x in diff)\n",
    "    denominator = len(predicted_Y)\n",
    "    \n",
    "    numerator2 = sum(x == 0 for x in maj_diff)\n",
    "    denominator2 = len(maj_diff)\n",
    "    \n",
    "\n",
    "    print(\"Accuracy prob_diff: {} of {} - {}\".format(numerator, denominator, numerator/denominator))\n",
    "    \n",
    "    print(\"Accuracy maj_diff: {} of {} - {}\".format(numerator2, denominator2, numerator2/denominator2))\n",
    "    "
   ]
  },
  {
   "cell_type": "code",
   "execution_count": 74,
   "metadata": {
    "scrolled": false
   },
   "outputs": [
    {
     "name": "stdout",
     "output_type": "stream",
     "text": [
      "Epoch 1/10\n",
      "3200/3200 [==============================] - 6s 2ms/step - loss: 1.3397 - acc: 0.5181\n",
      "Epoch 2/10\n",
      "3200/3200 [==============================] - 5s 2ms/step - loss: 0.7730 - acc: 0.7031\n",
      "Epoch 3/10\n",
      "3200/3200 [==============================] - 5s 2ms/step - loss: 0.5806 - acc: 0.7844\n",
      "Epoch 4/10\n",
      "3200/3200 [==============================] - 5s 2ms/step - loss: 0.4489 - acc: 0.8322\n",
      "Epoch 5/10\n",
      "3200/3200 [==============================] - 6s 2ms/step - loss: 0.3290 - acc: 0.8891\n",
      "Epoch 6/10\n",
      "3200/3200 [==============================] - 6s 2ms/step - loss: 0.2351 - acc: 0.9262\n",
      "Epoch 7/10\n",
      "3200/3200 [==============================] - 4s 1ms/step - loss: 0.1646 - acc: 0.9594\n",
      "Epoch 8/10\n",
      "3200/3200 [==============================] - 4s 1ms/step - loss: 0.1277 - acc: 0.9663\n",
      "Epoch 9/10\n",
      "3200/3200 [==============================] - 4s 1ms/step - loss: 0.0922 - acc: 0.9788\n",
      "Epoch 10/10\n",
      "3200/3200 [==============================] - 4s 1ms/step - loss: 0.0745 - acc: 0.9838\n"
     ]
    },
    {
     "name": "stderr",
     "output_type": "stream",
     "text": [
      "WARNING:root:frame length (1103) is greater than FFT size (512), frame will be truncated. Increase NFFT to avoid.\n",
      "WARNING:root:frame length (1103) is greater than FFT size (512), frame will be truncated. Increase NFFT to avoid.\n",
      "WARNING:root:frame length (1103) is greater than FFT size (512), frame will be truncated. Increase NFFT to avoid.\n",
      "WARNING:root:frame length (1103) is greater than FFT size (512), frame will be truncated. Increase NFFT to avoid.\n",
      "WARNING:root:frame length (1103) is greater than FFT size (512), frame will be truncated. Increase NFFT to avoid.\n",
      "WARNING:root:frame length (1103) is greater than FFT size (512), frame will be truncated. Increase NFFT to avoid.\n",
      "WARNING:root:frame length (1103) is greater than FFT size (512), frame will be truncated. Increase NFFT to avoid.\n",
      "WARNING:root:frame length (1103) is greater than FFT size (512), frame will be truncated. Increase NFFT to avoid.\n",
      "WARNING:root:frame length (1103) is greater than FFT size (512), frame will be truncated. Increase NFFT to avoid.\n",
      "WARNING:root:frame length (1103) is greater than FFT size (512), frame will be truncated. Increase NFFT to avoid.\n",
      "WARNING:root:frame length (1103) is greater than FFT size (512), frame will be truncated. Increase NFFT to avoid.\n",
      "WARNING:root:frame length (1103) is greater than FFT size (512), frame will be truncated. Increase NFFT to avoid.\n",
      "WARNING:root:frame length (1103) is greater than FFT size (512), frame will be truncated. Increase NFFT to avoid.\n",
      "WARNING:root:frame length (1103) is greater than FFT size (512), frame will be truncated. Increase NFFT to avoid.\n",
      "WARNING:root:frame length (1103) is greater than FFT size (512), frame will be truncated. Increase NFFT to avoid.\n",
      "WARNING:root:frame length (1103) is greater than FFT size (512), frame will be truncated. Increase NFFT to avoid.\n",
      "WARNING:root:frame length (1103) is greater than FFT size (512), frame will be truncated. Increase NFFT to avoid.\n",
      "WARNING:root:frame length (1103) is greater than FFT size (512), frame will be truncated. Increase NFFT to avoid.\n",
      "WARNING:root:frame length (1103) is greater than FFT size (512), frame will be truncated. Increase NFFT to avoid.\n",
      "WARNING:root:frame length (1103) is greater than FFT size (512), frame will be truncated. Increase NFFT to avoid.\n",
      "WARNING:root:frame length (1103) is greater than FFT size (512), frame will be truncated. Increase NFFT to avoid.\n",
      "WARNING:root:frame length (1103) is greater than FFT size (512), frame will be truncated. Increase NFFT to avoid.\n"
     ]
    },
    {
     "name": "stdout",
     "output_type": "stream",
     "text": [
      "[array(3.997187614440918, dtype=float32), array(0.3076612949371338, dtype=float32)]\n",
      "['loss', 'acc']\n",
      "6 6 6\n",
      "2 7 7\n",
      "4 10 10\n",
      "9 7 7\n",
      "2 1 1\n",
      "3 7 7\n",
      "7 7 7\n",
      "3 7 7\n",
      "1 1 1\n",
      "1 1 1\n",
      "7 7 7\n",
      "10 7 7\n",
      "6 6 6\n",
      "10 7 7\n",
      "9 7 7\n",
      "1 1 1\n",
      "1 7 7\n",
      "3 7 7\n",
      "4 10 10\n",
      "1 1 1\n",
      "9 7 7\n",
      "4 10 10\n",
      "4 10 7\n",
      "2 7 7\n",
      "6 1 1\n",
      "2 1 1\n",
      "9 7 7\n",
      "10 7 7\n",
      "7 7 7\n",
      "3 10 7\n",
      "7 7 7\n",
      "2 2 2\n",
      "10 7 7\n",
      "6 7 7\n",
      "3 7 7\n",
      "6 1 1\n",
      "4 7 7\n",
      "7 7 7\n",
      "7 7 7\n",
      "3 9 7\n",
      "7 7 7\n",
      "4 10 10\n",
      "1 1 1\n",
      "4 7 7\n",
      "9 7 7\n",
      "3 7 7\n",
      "6 1 1\n",
      "1 1 1\n",
      "10 7 7\n",
      "4 10 10\n",
      "9 7 7\n",
      "10 7 7\n",
      "10 7 7\n",
      "7 7 7\n",
      "9 7 7\n",
      "1 1 1\n",
      "2 1 1\n",
      "3 10 10\n",
      "6 1 1\n",
      "10 7 7\n",
      "6 6 6\n",
      "9 9 9\n",
      "Accuracy prob_diff: 20 of 62 - 0.3225806451612903\n",
      "Accuracy maj_diff: 20 of 62 - 0.3225806451612903\n"
     ]
    }
   ],
   "source": [
    "cnn_model = cnn_train()\n",
    "test_cnn(cnn_model)"
   ]
  },
  {
   "cell_type": "code",
   "execution_count": null,
   "metadata": {
    "collapsed": true,
    "scrolled": false
   },
   "outputs": [],
   "source": [
    "# test(model)\n",
    "test_cnn(cnn_model)"
   ]
  },
  {
   "cell_type": "code",
   "execution_count": 12,
   "metadata": {
    "scrolled": false
   },
   "outputs": [
    {
     "data": {
      "text/plain": [
       "'/home/rohan/anaconda3/lib/python3.6/site-packages/python_speech_features-0.6-py3.6.egg/python_speech_features/__init__.py'"
      ]
     },
     "execution_count": 12,
     "metadata": {},
     "output_type": "execute_result"
    }
   ],
   "source": [
    "\n",
    "import python_speech_features\n",
    "python_speech_features.__file__\n",
    "\n",
    "# print(predicted_Y)\n",
    "# print(test_Y[::40].T)\n",
    "\n",
    "# for t, p in zip(test_Y[::40].T[0], predicted_Y):\n",
    "#     print (int(t), p)\n",
    "\n"
   ]
  },
  {
   "cell_type": "code",
   "execution_count": 13,
   "metadata": {
    "collapsed": true,
    "scrolled": true
   },
   "outputs": [],
   "source": [
    "# majority\n",
    "\n",
    "# argmax_pred = numpy.argmax(predictions, axis=1)\n",
    "# argmax_pred = argmax_pred.reshape((-1, 25))\n",
    "\n",
    "# from scipy.stats import mode\n",
    "# argmax_pred = mode(argmax_pred, axis=-1)[0]\n",
    "\n",
    "# # print(argmax_pred)\n",
    "# # print(test_Y)\n",
    "\n",
    "# for t, p in zip(test_Y[::40].T[0], argmax_pred):\n",
    "#     print (int(t), p)"
   ]
  },
  {
   "cell_type": "code",
   "execution_count": 24,
   "metadata": {
    "collapsed": true
   },
   "outputs": [],
   "source": [
    "def find_majority(k):\n",
    "    myMap = {}\n",
    "    maximum = ( '', 0 ) # (occurring element, occurrences)\n",
    "    for n in k:\n",
    "        if n in myMap: myMap[n] += 1\n",
    "        else: myMap[n] = 1\n",
    "\n",
    "        # Keep track of maximum on the go\n",
    "        if myMap[n] > maximum[1]: maximum = (n,myMap[n])\n",
    "\n",
    "    return maximum"
   ]
  },
  {
   "cell_type": "code",
   "execution_count": null,
   "metadata": {},
   "outputs": [],
   "source": []
  },
  {
   "cell_type": "code",
   "execution_count": null,
   "metadata": {
    "collapsed": true
   },
   "outputs": [],
   "source": []
  }
 ],
 "metadata": {
  "kernelspec": {
   "display_name": "Python 3",
   "language": "python",
   "name": "python3"
  },
  "language_info": {
   "codemirror_mode": {
    "name": "ipython",
    "version": 3
   },
   "file_extension": ".py",
   "mimetype": "text/x-python",
   "name": "python",
   "nbconvert_exporter": "python",
   "pygments_lexer": "ipython3",
   "version": "3.6.2"
  }
 },
 "nbformat": 4,
 "nbformat_minor": 2
}
