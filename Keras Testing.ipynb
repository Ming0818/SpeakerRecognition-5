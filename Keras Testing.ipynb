{
 "cells": [
  {
   "cell_type": "code",
   "execution_count": 1,
   "metadata": {},
   "outputs": [],
   "source": [
    "import os\n",
    "\n",
    "from python_speech_features import mfcc\n",
    "from python_speech_features import delta\n",
    "from python_speech_features import logfbank\n",
    "import scipy.io.wavfile as wav\n",
    "from random import randint"
   ]
  },
  {
   "cell_type": "code",
   "execution_count": 2,
   "metadata": {},
   "outputs": [],
   "source": [
    "# every frame is considered independent\n",
    "\n",
    "no_of_features = 13\n",
    "no_of_fbank_features = 20\n",
    "no_of_columns = (3 * no_of_features) + no_of_fbank_features\n",
    "\n",
    "def get_feature_vectors(dataset_type):\n",
    "    \n",
    "    #set parameters for training and testing\n",
    "    if (dataset_type == \"train\"):\n",
    "        directory = os.path.join(os.getcwd(), 'data_thuyg20_sre/enroll')\n",
    "        no_of_frames = 400\n",
    "        start_frame = 1\n",
    "    elif (dataset_type == \"test\"):    \n",
    "        directory = os.path.join(os.getcwd(), 'data_thuyg20_sre/test')\n",
    "        no_of_frames = 40\n",
    "        start_frame = randint(1, 200)\n",
    "        \n",
    "    dataset = numpy.empty([0, no_of_columns + 1])\n",
    "    \n",
    "    for file in os.listdir(directory):\n",
    "        \n",
    "        # filter speakers\n",
    "        names = ['F101', 'F102', 'F103', 'F104', 'F105', 'M101', 'M102', 'M103', 'M104']\n",
    "\n",
    "        if any(name in file for name in names):\n",
    "            \n",
    "            # extract mfcc vectors\n",
    "            (rate,sig) = wav.read(os.path.join(directory, file))\n",
    "            fbank_feat = logfbank(sig,rate)\n",
    "            mfcc_feat = mfcc(sig,rate)\n",
    "            d_mfcc_feat = delta(mfcc_feat, 2)\n",
    "            dd_mfcc_feat = delta(d_mfcc_feat, 2)\n",
    "            \n",
    "#             fbank_feat = logfbank(sig,rate)\n",
    "            mfcc_vectors = mfcc_feat[start_frame:start_frame+no_of_frames,:no_of_features]\n",
    "            dmfcc_vectors = d_mfcc_feat[start_frame:start_frame+no_of_frames,:no_of_features]\n",
    "            ddmfcc_vectors = dd_mfcc_feat[start_frame:start_frame+no_of_frames,:no_of_features]\n",
    "            fbank_vectors = fbank_feat[start_frame:start_frame+no_of_frames,:no_of_fbank_features]\n",
    "            \n",
    "            feature_vectors = numpy.hstack((mfcc_vectors, dmfcc_vectors, ddmfcc_vectors, fbank_vectors))\n",
    "#             print(feature_vectors.shape)\n",
    "            \n",
    "            # get speaker index from filename\n",
    "            speaker_index = file.split(\"_\")[0]\n",
    "            if speaker_index[0] == 'M':\n",
    "                speaker_index = 5 + int(speaker_index[3:])\n",
    "            else:\n",
    "                speaker_index = int(speaker_index[3:])\n",
    "\n",
    "            #append speaker index to feature vectors\n",
    "            np_speaker_index = numpy.array([speaker_index])\n",
    "            temp = numpy.tile(np_speaker_index[numpy.newaxis,:], (feature_vectors.shape[0],1))\n",
    "            concatenated_feature_vector = numpy.concatenate((feature_vectors,temp), axis=1)\n",
    "            \n",
    "#             print(concatenated_feature_vector.shape)\n",
    "#             print(fbank_vectors.shape)\n",
    "            \n",
    "            # append file's data to dataset\n",
    "            dataset = numpy.concatenate((dataset, concatenated_feature_vector), axis=0)\n",
    "            \n",
    "\n",
    "    return dataset\n"
   ]
  },
  {
   "cell_type": "code",
   "execution_count": 3,
   "metadata": {},
   "outputs": [
    {
     "name": "stderr",
     "output_type": "stream",
     "text": [
      "Using TensorFlow backend.\n"
     ]
    }
   ],
   "source": [
    "from keras.models import Sequential\n",
    "import numpy as numpy "
   ]
  },
  {
   "cell_type": "code",
   "execution_count": 4,
   "metadata": {},
   "outputs": [],
   "source": [
    "# from numpy import genfromtxt\n",
    "my_data = get_feature_vectors(\"train\")\n"
   ]
  },
  {
   "cell_type": "code",
   "execution_count": 5,
   "metadata": {},
   "outputs": [
    {
     "name": "stdout",
     "output_type": "stream",
     "text": [
      "(3600, 60)\n"
     ]
    }
   ],
   "source": [
    "# print(my_data)\n",
    "print(my_data.shape)"
   ]
  },
  {
   "cell_type": "code",
   "execution_count": 6,
   "metadata": {},
   "outputs": [
    {
     "name": "stdout",
     "output_type": "stream",
     "text": [
      "(3600, 1)\n"
     ]
    }
   ],
   "source": [
    "Y = numpy.copy(my_data[:, no_of_columns:])\n",
    "print(Y.shape)"
   ]
  },
  {
   "cell_type": "code",
   "execution_count": 7,
   "metadata": {
    "scrolled": true
   },
   "outputs": [
    {
     "name": "stdout",
     "output_type": "stream",
     "text": [
      "(3600, 59)\n",
      "(1, 59)\n",
      "(1, 59)\n",
      "(3600, 59)\n"
     ]
    }
   ],
   "source": [
    "X = numpy.copy(my_data[:, :no_of_columns])\n",
    "print(X.shape)\n",
    "mean = X.mean(0, keepdims=True)\n",
    "\n",
    "print(mean.shape)\n",
    "std_deviation = numpy.std(X, axis=0, keepdims=True)\n",
    "print(std_deviation.shape)\n",
    "\n",
    "normalized_X = (X - mean) / std_deviation\n",
    "print(normalized_X.shape)\n"
   ]
  },
  {
   "cell_type": "code",
   "execution_count": 8,
   "metadata": {},
   "outputs": [
    {
     "name": "stdout",
     "output_type": "stream",
     "text": [
      "[[0. 1. 0. ... 0. 0. 0.]\n",
      " [0. 1. 0. ... 0. 0. 0.]\n",
      " [0. 1. 0. ... 0. 0. 0.]\n",
      " ...\n",
      " [0. 0. 0. ... 0. 0. 0.]\n",
      " [0. 0. 0. ... 0. 0. 0.]\n",
      " [0. 0. 0. ... 0. 0. 0.]]\n"
     ]
    }
   ],
   "source": [
    "from keras import utils as np_utils\n",
    "from keras.layers import Dense, Activation, Dropout\n",
    "from keras.optimizers import SGD\n",
    "\n",
    "one_hot_labels = np_utils.to_categorical(Y, num_classes=10)\n",
    "print(one_hot_labels)"
   ]
  },
  {
   "cell_type": "code",
   "execution_count": 21,
   "metadata": {},
   "outputs": [],
   "source": [
    "def train():\n",
    "\n",
    "    # MultiLayer Perceptron\n",
    "    model = Sequential()\n",
    "\n",
    "    # 3000 0.6 1500 0.6 -> 57% acc\n",
    "    # 2560 0.7 1280 0.7 -> 60% acc\n",
    "    # 2560 0.7 1600 0.7 -> 51% acc\n",
    "    # 2560 0.6 1600 0.7 -> 49%\n",
    "    # 2560 0.7 1280 -   -> 50\n",
    "    # 3000 0.7 1280 0.7 -> 54% acc\n",
    "    # 2560 0.7 1280 0.8 -> 45% acc\n",
    "\n",
    "    model.add(Dense(3000, activation='tanh', input_dim=no_of_columns))\n",
    "    model.add(Dense(100, activation='tanh'))\n",
    "    model.add(Dropout(0.3))\n",
    "    model.add(Dense(100, activation='tanh'))\n",
    "    model.add(Dropout(0.3))\n",
    "    model.add(Dense(100, activation='tanh'))\n",
    "    model.add(Dropout(0.3))\n",
    "    model.add(Dense(100, activation='tanh'))\n",
    "    model.add(Dropout(0.3))\n",
    "    \n",
    "#     for layer in layers:\n",
    "#         model.add(Dense(layer, activation='tanh'))\n",
    "#         model.add(Dropout(0.3))\n",
    "    \n",
    "    model.add(Dense(10, activation='softmax'))\n",
    "\n",
    "    sgd = SGD(lr=0.005, decay=1e-5, momentum=0.9, nesterov=True)\n",
    "    model.compile(loss='categorical_crossentropy',\n",
    "                  optimizer=sgd,\n",
    "                  metrics=['accuracy'])\n",
    "\n",
    "    model.fit(normalized_X, one_hot_labels, epochs=10, batch_size=32)\n",
    "    \n",
    "    return model\n",
    "# score = model.evaluate(x_test, y_test, batch_size=128)"
   ]
  },
  {
   "cell_type": "code",
   "execution_count": 22,
   "metadata": {},
   "outputs": [],
   "source": [
    "def test(model):\n",
    "    \n",
    "    test_model = get_feature_vectors(\"test\")\n",
    "#     print(test_model.shape)\n",
    "\n",
    "    test_X = numpy.copy(test_model[:, :no_of_columns])\n",
    "#     print(test_X.shape)\n",
    "\n",
    "    normalized_test_X = (test_X - mean) / std_deviation\n",
    "#     print(normalized_test_X.shape)\n",
    "\n",
    "    test_Y = numpy.copy(test_model[:, no_of_columns:])\n",
    "#     print(test_Y.shape)\n",
    "    test_labels = np_utils.to_categorical(test_Y, num_classes=10)\n",
    "\n",
    "#     print(model.test_on_batch(test_X, test_labels, sample_weight=None))\n",
    "#     print(model.metrics_names)\n",
    "    predictions = model.predict(test_X)\n",
    "    \n",
    "    b = [sum(predictions[current: current+40]) for current in range(0, len(predictions), 40)]\n",
    "    predicted_Y = []\n",
    "    for row in b:\n",
    "        predicted_Y.append(row.argmax(axis=0))\n",
    "        \n",
    "    diff = predicted_Y - test_Y[::40].T[0]\n",
    "    correct = sum(x == 0 for x in diff)\n",
    "    total = len(predicted_Y)\n",
    "    percent = correct/total * 100\n",
    "    print(str(correct) + \" / \" + str(total) + \" = \" + str(percent))\n",
    "    \n",
    "    loss = str(numpy.sum(numpy.abs(diff)))\n",
    "    print(\"Loss = \" + loss)\n",
    "    \n",
    "    return correct, percent, loss"
   ]
  },
  {
   "cell_type": "code",
   "execution_count": 27,
   "metadata": {},
   "outputs": [
    {
     "name": "stdout",
     "output_type": "stream",
     "text": [
      "Epoch 1/10\n",
      "3600/3600 [==============================] - 2s 504us/step - loss: 1.9215 - acc: 0.3119\n",
      "Epoch 2/10\n",
      "3600/3600 [==============================] - 1s 367us/step - loss: 1.5461 - acc: 0.4497\n",
      "Epoch 3/10\n",
      "3600/3600 [==============================] - 1s 393us/step - loss: 1.4124 - acc: 0.4964\n",
      "Epoch 4/10\n",
      "3600/3600 [==============================] - 1s 395us/step - loss: 1.3098 - acc: 0.5281\n",
      "Epoch 5/10\n",
      "3600/3600 [==============================] - 1s 375us/step - loss: 1.2340 - acc: 0.5597\n",
      "Epoch 6/10\n",
      "3600/3600 [==============================] - 1s 381us/step - loss: 1.1690 - acc: 0.5906\n",
      "Epoch 7/10\n",
      "3600/3600 [==============================] - 1s 401us/step - loss: 1.1282 - acc: 0.6025\n",
      "Epoch 8/10\n",
      "3600/3600 [==============================] - 2s 523us/step - loss: 1.0597 - acc: 0.6178\n",
      "Epoch 9/10\n",
      "3600/3600 [==============================] - 1s 396us/step - loss: 1.0188 - acc: 0.6444\n",
      "Epoch 10/10\n",
      "3600/3600 [==============================] - 1s 367us/step - loss: 0.9698 - acc: 0.6636\n",
      "55 / 90 = 61.111111111111114\n",
      "Loss = 99.0\n"
     ]
    },
    {
     "data": {
      "text/plain": [
       "(55, 61.111111111111114, '99.0')"
      ]
     },
     "execution_count": 27,
     "metadata": {},
     "output_type": "execute_result"
    }
   ],
   "source": [
    "model = train()\n",
    "test(model)"
   ]
  },
  {
   "cell_type": "code",
   "execution_count": 20,
   "metadata": {
    "scrolled": true
   },
   "outputs": [],
   "source": [
    "# # with open('automate_op.csv', 'a') as the_file:\n",
    "# #     the_file.write('Hello\\n')\n",
    "\n",
    "# # print(\"Test\", file=f)\n",
    "# for i in range(100, 4001,500):  \n",
    "#     for j in range(100,4001,500):  \n",
    "#         for k in range(100,4001,500):  \n",
    "#             for l in range(100,4001,500):  \n",
    "# #                 print(str(i) + \", \" + str(j))\n",
    "#                 model = train([i, j, k, l])\n",
    "\n",
    "#                 correct, percent, loss = test(model)\n",
    "#                 string = \"3000, \" + str(i) + \", \" + str(j) + \", \" + str(k) + \", \" + str(l) + \", \" + str(correct) + \", \" + str(percent) + \", \" + str(loss)\n",
    "#                 f = open('full_automate_op.csv', 'a')\n",
    "#                 print(string, file=f)\n",
    "#                 f.close()\n",
    "\n",
    "#                 correct, percent, loss = test(model)\n",
    "#                 string = \"3000, \" + str(i) + \", \" + str(j) + \", \" + str(k) + \", \" + str(l) + \", \" + str(correct) + \", \" + str(percent) + \", \" + str(loss)\n",
    "#                 f = open('full_automate_op.csv', 'a')\n",
    "#                 print(string, file=f)\n",
    "#                 f.close()\n",
    "\n",
    "#                 correct, percent, loss = test(model)\n",
    "#                 string = \"3000, \" + str(i) + \", \" + str(j) + \", \" + str(k) + \", \" + str(l) + \", \" + str(correct) + \", \" + str(percent) + \", \" + str(loss)\n",
    "#                 f = open('full_automate_op.csv', 'a')\n",
    "#                 print(string, file=f)\n",
    "#                 f.close()"
   ]
  },
  {
   "cell_type": "code",
   "execution_count": 55,
   "metadata": {
    "collapsed": true,
    "scrolled": false
   },
   "outputs": [],
   "source": [
    "\n",
    "    \n",
    "# print(predicted_Y)\n",
    "# print(test_Y[::40].T)\n",
    "\n",
    "# for t, p in zip(test_Y[::40].T[0], predicted_Y):\n",
    "#     print (int(t), p)\n",
    "\n",
    "f.close()"
   ]
  },
  {
   "cell_type": "code",
   "execution_count": 28,
   "metadata": {
    "collapsed": true,
    "scrolled": true
   },
   "outputs": [],
   "source": [
    "# majority\n",
    "\n",
    "# argmax_pred = numpy.argmax(predictions, axis=1)\n",
    "# argmax_pred = argmax_pred.reshape((-1, 25))\n",
    "\n",
    "# from scipy.stats import mode\n",
    "# argmax_pred = mode(argmax_pred, axis=-1)[0]\n",
    "\n",
    "# # print(argmax_pred)\n",
    "# # print(test_Y)\n",
    "\n",
    "# for t, p in zip(test_Y[::40].T[0], argmax_pred):\n",
    "#     print (int(t), p)"
   ]
  },
  {
   "cell_type": "code",
   "execution_count": 17,
   "metadata": {
    "collapsed": true
   },
   "outputs": [],
   "source": [
    "# def find_majority(k):\n",
    "#     myMap = {}\n",
    "#     maximum = ( '', 0 ) # (occurring element, occurrences)\n",
    "#     for n in k:\n",
    "#         if n in myMap: myMap[n] += 1\n",
    "#         else: myMap[n] = 1\n",
    "\n",
    "#         # Keep track of maximum on the go\n",
    "#         if myMap[n] > maximum[1]: maximum = (n,myMap[n])\n",
    "\n",
    "#     return maximum"
   ]
  },
  {
   "cell_type": "code",
   "execution_count": null,
   "metadata": {
    "collapsed": true
   },
   "outputs": [],
   "source": []
  }
 ],
 "metadata": {
  "kernelspec": {
   "display_name": "Python 3",
   "language": "python",
   "name": "python3"
  },
  "language_info": {
   "codemirror_mode": {
    "name": "ipython",
    "version": 3
   },
   "file_extension": ".py",
   "mimetype": "text/x-python",
   "name": "python",
   "nbconvert_exporter": "python",
   "pygments_lexer": "ipython3",
   "version": "3.6.2"
  }
 },
 "nbformat": 4,
 "nbformat_minor": 2
}
