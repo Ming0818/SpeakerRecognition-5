{
 "cells": [
  {
   "cell_type": "code",
   "execution_count": 5,
   "metadata": {
    "collapsed": true
   },
   "outputs": [],
   "source": [
    "import os\n",
    "\n",
    "from python_speech_features import mfcc\n",
    "from python_speech_features import delta\n",
    "from python_speech_features import logfbank\n",
    "import scipy.io.wavfile as wav\n",
    "from random import randint\n",
    "# import librosa\n",
    "\n",
    "# import tensorflow as tf"
   ]
  },
  {
   "cell_type": "code",
   "execution_count": 30,
   "metadata": {
    "collapsed": true
   },
   "outputs": [],
   "source": [
    "# every frame is considered independent\n",
    "\n",
    "no_of_features = 13\n",
    "no_of_fbank_features = 13\n",
    "no_of_columns = (3 * no_of_features) + no_of_fbank_features\n",
    "\n",
    "def get_feature_vectors(dataset_type):\n",
    "    \n",
    "    #set parameters for training and testing\n",
    "    if (dataset_type == \"train\"):\n",
    "        directory = os.path.join(os.getcwd(), 'voices_processed/enroll')\n",
    "        no_of_frames = 400\n",
    "        start_frame = 1\n",
    "    elif (dataset_type == \"test\"):    \n",
    "        directory = os.path.join(os.getcwd(), 'voices_processed/test')\n",
    "        no_of_frames = 40\n",
    "        start_frame = 1\n",
    "        \n",
    "    dataset = numpy.empty([0, no_of_columns + 1])\n",
    "    \n",
    "    for file in os.listdir(directory):\n",
    "        \n",
    "        # filter speakers\n",
    "        names = ['M001', 'M002', 'M003']\n",
    "\n",
    "        if any(name in file for name in names):\n",
    "            \n",
    "            # extract mfcc vectors\n",
    "            (rate,sig) = wav.read(os.path.join(directory, file))\n",
    "            fbank_feat = logfbank(sig,rate)\n",
    "            mfcc_feat = mfcc(sig,rate,winlen=0.032,winstep=0.016,numcep=13,\n",
    "         nfilt=50,nfft=2048)\n",
    "#             print(\"Rate :\" + str(rate) + \" \" + file)\n",
    "#             print(\"Signal :\" + str(sig) + \" \" + file)\n",
    "#             y, sr = librosa.load(os.path.join(directory, file))\n",
    "#             mfcc_feat = librosa.feature.mfcc(y=y, sr=sr, n_mfcc=13, n_fft=2048).T\n",
    "            d_mfcc_feat = delta(mfcc_feat, 2)\n",
    "            dd_mfcc_feat = delta(d_mfcc_feat, 2)\n",
    "            \n",
    "#             fbank_feat = logfbank(sig,rate)\n",
    "            mfcc_vectors = mfcc_feat[start_frame:start_frame+no_of_frames,:no_of_features]\n",
    "            dmfcc_vectors = d_mfcc_feat[start_frame:start_frame+no_of_frames,:no_of_features]\n",
    "            ddmfcc_vectors = dd_mfcc_feat[start_frame:start_frame+no_of_frames,:no_of_features]\n",
    "            fbank_vectors = fbank_feat[start_frame:start_frame+no_of_frames,:no_of_fbank_features]\n",
    "            \n",
    "            feature_vectors = numpy.hstack((mfcc_vectors, dmfcc_vectors, ddmfcc_vectors, fbank_vectors))\n",
    "#             print(feature_vectors.shape)\n",
    "            \n",
    "            # get speaker index from filename\n",
    "            speaker_index = file.split(\"_\")[0]\n",
    "            if speaker_index[0] == 'M':\n",
    "                speaker_index = 5 + int(speaker_index[3:])\n",
    "            else:\n",
    "                speaker_index = int(speaker_index[3:])\n",
    "\n",
    "            #append speaker index to feature vectors\n",
    "            np_speaker_index = numpy.array([speaker_index])\n",
    "            temp = numpy.tile(np_speaker_index[numpy.newaxis,:], (feature_vectors.shape[0],1))\n",
    "            concatenated_feature_vector = numpy.concatenate((feature_vectors,temp), axis=1)\n",
    "            \n",
    "#             print(concatenated_feature_vector.shape)\n",
    "#             print(fbank_vectors.shape)\n",
    "            \n",
    "            # append file's data to dataset\n",
    "            dataset = numpy.concatenate((dataset, concatenated_feature_vector), axis=0)\n",
    "            \n",
    "\n",
    "    return dataset\n"
   ]
  },
  {
   "cell_type": "code",
   "execution_count": 31,
   "metadata": {},
   "outputs": [],
   "source": [
    "from keras.models import Sequential\n",
    "import numpy as numpy "
   ]
  },
  {
   "cell_type": "code",
   "execution_count": 32,
   "metadata": {},
   "outputs": [
    {
     "name": "stderr",
     "output_type": "stream",
     "text": [
      "WARNING:root:frame length (1103) is greater than FFT size (512), frame will be truncated. Increase NFFT to avoid.\n",
      "/home/rohan/anaconda3/lib/python3.6/site-packages/scipy/io/wavfile.py:273: WavFileWarning: Chunk (non-data) not understood, skipping it.\n",
      "  WavFileWarning)\n",
      "WARNING:root:frame length (1103) is greater than FFT size (512), frame will be truncated. Increase NFFT to avoid.\n"
     ]
    }
   ],
   "source": [
    "# from numpy import genfromtxt\n",
    "my_data = get_feature_vectors(\"train\")\n"
   ]
  },
  {
   "cell_type": "code",
   "execution_count": 33,
   "metadata": {
    "scrolled": true
   },
   "outputs": [
    {
     "name": "stdout",
     "output_type": "stream",
     "text": [
      "(1200, 53)\n"
     ]
    }
   ],
   "source": [
    "# numpy.set_printoptions(threshold=numpy.nan)\n",
    "# print(my_data)\n",
    "print(my_data.shape)"
   ]
  },
  {
   "cell_type": "code",
   "execution_count": 34,
   "metadata": {},
   "outputs": [
    {
     "name": "stdout",
     "output_type": "stream",
     "text": [
      "(1200, 1)\n"
     ]
    }
   ],
   "source": [
    "Y = numpy.copy(my_data[:, no_of_columns:])\n",
    "print(Y.shape)"
   ]
  },
  {
   "cell_type": "code",
   "execution_count": 35,
   "metadata": {
    "scrolled": true
   },
   "outputs": [
    {
     "name": "stdout",
     "output_type": "stream",
     "text": [
      "(1200, 52)\n",
      "(1, 52)\n",
      "(1, 52)\n",
      "(1200, 52)\n"
     ]
    }
   ],
   "source": [
    "X = numpy.copy(my_data[:, :no_of_columns])\n",
    "print(X.shape)\n",
    "mean = X.mean(0, keepdims=True)\n",
    "\n",
    "print(mean.shape)\n",
    "std_deviation = numpy.std(X, axis=0, keepdims=True)\n",
    "print(std_deviation.shape)\n",
    "\n",
    "normalized_X = (X - mean) / std_deviation\n",
    "print(normalized_X.shape)\n"
   ]
  },
  {
   "cell_type": "code",
   "execution_count": 36,
   "metadata": {},
   "outputs": [
    {
     "name": "stdout",
     "output_type": "stream",
     "text": [
      "[[ 0.  0.  0. ...,  0.  1.  0.]\n",
      " [ 0.  0.  0. ...,  0.  1.  0.]\n",
      " [ 0.  0.  0. ...,  0.  1.  0.]\n",
      " ..., \n",
      " [ 0.  0.  0. ...,  0.  0.  0.]\n",
      " [ 0.  0.  0. ...,  0.  0.  0.]\n",
      " [ 0.  0.  0. ...,  0.  0.  0.]]\n"
     ]
    }
   ],
   "source": [
    "from keras import utils as np_utils\n",
    "from keras.layers import Dense, Activation, Dropout\n",
    "from keras.optimizers import SGD\n",
    "\n",
    "one_hot_labels = np_utils.to_categorical(Y, num_classes=10)\n",
    "print(one_hot_labels)"
   ]
  },
  {
   "cell_type": "code",
   "execution_count": 37,
   "metadata": {
    "collapsed": true
   },
   "outputs": [],
   "source": [
    "def train():\n",
    "\n",
    "    # MultiLayer Perceptron\n",
    "    model = Sequential()\n",
    "\n",
    "    # 3000 0.6 1500 0.6 -> 57% acc\n",
    "    # 2560 0.7 1280 0.7 -> 60% acc\n",
    "    # 2560 0.7 1600 0.7 -> 51% acc\n",
    "    # 2560 0.6 1600 0.7 -> 49%\n",
    "    # 2560 0.7 1280 -   -> 50\n",
    "    # 3000 0.7 1280 0.7 -> 54% acc\n",
    "    # 2560 0.7 1280 0.8 -> 45% acc\n",
    "\n",
    "    model.add(Dense(3000, activation='tanh', input_dim=no_of_columns))\n",
    "    model.add(Dense(100, activation='tanh'))\n",
    "    model.add(Dropout(0.3))\n",
    "    model.add(Dense(100, activation='tanh'))\n",
    "    model.add(Dropout(0.3))\n",
    "    model.add(Dense(100, activation='tanh'))\n",
    "    model.add(Dropout(0.3))\n",
    "    model.add(Dense(100, activation='tanh'))\n",
    "    model.add(Dropout(0.3))\n",
    "    \n",
    "#     for layer in layers:\n",
    "#         model.add(Dense(layer, activation='tanh'))\n",
    "#         model.add(Dropout(0.3))\n",
    "    \n",
    "    model.add(Dense(10, activation='softmax'))\n",
    "\n",
    "    sgd = SGD(lr=0.005, decay=1e-5, momentum=0.9, nesterov=True)\n",
    "    model.compile(loss='categorical_crossentropy',\n",
    "                  optimizer=sgd,\n",
    "                  metrics=['accuracy'])\n",
    "\n",
    "    model.fit(normalized_X, one_hot_labels, epochs=10, batch_size=32)\n",
    "    \n",
    "    return model\n",
    "# score = model.evaluate(x_test, y_test, batch_size=128)"
   ]
  },
  {
   "cell_type": "code",
   "execution_count": 38,
   "metadata": {
    "collapsed": true
   },
   "outputs": [],
   "source": [
    "def test(model):\n",
    "    \n",
    "    test_model = get_feature_vectors(\"test\")\n",
    "    print(test_model.shape)\n",
    "\n",
    "    test_X = numpy.copy(test_model[:, :no_of_columns])\n",
    "#     print(test_X.shape)\n",
    "\n",
    "    normalized_test_X = (test_X - mean) / std_deviation\n",
    "#     print(normalized_test_X.shape)\n",
    "\n",
    "    test_Y = numpy.copy(test_model[:, no_of_columns:])\n",
    "#     print(test_Y.shape)\n",
    "    test_labels = np_utils.to_categorical(test_Y, num_classes=10)\n",
    "\n",
    "#     print(model.test_on_batch(test_X, test_labels, sample_weight=None))\n",
    "#     print(model.metrics_names)\n",
    "    predictions = model.predict(test_X)\n",
    "    \n",
    "    b = [sum(predictions[current: current+40]) for current in range(0, len(predictions), 40)]\n",
    "    predicted_Y = []\n",
    "    for row in b:\n",
    "        predicted_Y.append(row.argmax(axis=0))\n",
    "        \n",
    "    diff = predicted_Y - test_Y[::40].T[0]\n",
    "    correct = sum(x == 0 for x in diff)\n",
    "    total = len(predicted_Y)\n",
    "    percent = correct/total * 100\n",
    "    print(str(correct) + \" / \" + str(total) + \" = \" + str(percent))\n",
    "    \n",
    "    loss = str(numpy.sum(numpy.abs(diff)))\n",
    "    print(\"Loss = \" + loss)\n",
    "    \n",
    "    return correct, percent, loss"
   ]
  },
  {
   "cell_type": "code",
   "execution_count": 39,
   "metadata": {
    "scrolled": false
   },
   "outputs": [
    {
     "name": "stdout",
     "output_type": "stream",
     "text": [
      "Epoch 1/10\n",
      "1200/1200 [==============================] - 1s 1ms/step - loss: 0.7304 - acc: 0.8192\n",
      "Epoch 2/10\n",
      "1200/1200 [==============================] - 1s 1ms/step - loss: 0.0558 - acc: 0.9883\n",
      "Epoch 3/10\n",
      "1200/1200 [==============================] - 1s 903us/step - loss: 0.0363 - acc: 0.9917\n",
      "Epoch 4/10\n",
      "1200/1200 [==============================] - 1s 892us/step - loss: 0.0164 - acc: 0.9983\n",
      "Epoch 5/10\n",
      "1200/1200 [==============================] - 1s 958us/step - loss: 0.0194 - acc: 0.9975\n",
      "Epoch 6/10\n",
      "1200/1200 [==============================] - 1s 968us/step - loss: 0.0150 - acc: 0.9992\n",
      "Epoch 7/10\n",
      "1200/1200 [==============================] - 1s 1ms/step - loss: 0.0116 - acc: 0.9967\n",
      "Epoch 8/10\n",
      "1200/1200 [==============================] - ETA: 0s - loss: 0.0276 - acc: 0.993 - 1s 1ms/step - loss: 0.0273 - acc: 0.9933\n",
      "Epoch 9/10\n",
      "1200/1200 [==============================] - 1s 1ms/step - loss: 0.0099 - acc: 0.9975\n",
      "Epoch 10/10\n",
      "1200/1200 [==============================] - 1s 1ms/step - loss: 0.0069 - acc: 1.0000\n"
     ]
    },
    {
     "name": "stderr",
     "output_type": "stream",
     "text": [
      "WARNING:root:frame length (1103) is greater than FFT size (512), frame will be truncated. Increase NFFT to avoid.\n",
      "/home/rohan/anaconda3/lib/python3.6/site-packages/scipy/io/wavfile.py:273: WavFileWarning: Chunk (non-data) not understood, skipping it.\n",
      "  WavFileWarning)\n",
      "WARNING:root:frame length (1103) is greater than FFT size (512), frame will be truncated. Increase NFFT to avoid.\n",
      "WARNING:root:frame length (1103) is greater than FFT size (512), frame will be truncated. Increase NFFT to avoid.\n",
      "WARNING:root:frame length (1103) is greater than FFT size (512), frame will be truncated. Increase NFFT to avoid.\n",
      "WARNING:root:frame length (1103) is greater than FFT size (512), frame will be truncated. Increase NFFT to avoid.\n",
      "WARNING:root:frame length (1103) is greater than FFT size (512), frame will be truncated. Increase NFFT to avoid.\n",
      "WARNING:root:frame length (1103) is greater than FFT size (512), frame will be truncated. Increase NFFT to avoid.\n",
      "WARNING:root:frame length (1103) is greater than FFT size (512), frame will be truncated. Increase NFFT to avoid.\n",
      "WARNING:root:frame length (1103) is greater than FFT size (512), frame will be truncated. Increase NFFT to avoid.\n",
      "WARNING:root:frame length (1103) is greater than FFT size (512), frame will be truncated. Increase NFFT to avoid.\n",
      "WARNING:root:frame length (1103) is greater than FFT size (512), frame will be truncated. Increase NFFT to avoid.\n",
      "WARNING:root:frame length (1103) is greater than FFT size (512), frame will be truncated. Increase NFFT to avoid.\n"
     ]
    },
    {
     "name": "stdout",
     "output_type": "stream",
     "text": [
      "(800, 53)\n",
      "19 / 20 = 95.0\n",
      "Loss = 2.0\n"
     ]
    },
    {
     "data": {
      "text/plain": [
       "(19, 95.0, '2.0')"
      ]
     },
     "execution_count": 39,
     "metadata": {},
     "output_type": "execute_result"
    }
   ],
   "source": [
    "model = train()\n",
    "test(model)"
   ]
  },
  {
   "cell_type": "code",
   "execution_count": 40,
   "metadata": {
    "collapsed": true
   },
   "outputs": [],
   "source": [
    "from keras.models import Sequential\n",
    "from keras.layers import Dense, Dropout, Activation, Flatten\n",
    "from keras.layers import Convolution1D, MaxPooling1D\n",
    "from keras.utils import np_utils\n",
    "\n",
    "from matplotlib import pyplot as plt\n",
    "\n",
    "def cnn_train():\n",
    "    \n",
    "    temp = normalized_X.reshape(normalized_X.shape[0], no_of_columns, 1)\n",
    "    \n",
    "    model = Sequential()\n",
    "\n",
    "    model.add(Convolution1D(32, 13, activation='tanh', input_shape=(no_of_columns,1)))\n",
    "    model.add(Convolution1D(32, 7, activation='tanh'))\n",
    "    model.add(Convolution1D(32, 1, activation='tanh'))\n",
    "\n",
    "    model.add(MaxPooling1D(pool_size=(1)))\n",
    "    model.add(Dropout(0.25))\n",
    "    model.add(Flatten())\n",
    "    model.add(Dense(60, activation='tanh'))\n",
    "    model.add(Dropout(0.25))\n",
    "    model.add(Dense(10, activation='softmax'))\n",
    "\n",
    "    model.compile(loss='categorical_crossentropy', optimizer='adam', metrics=['accuracy'])\n",
    "\n",
    "    model.fit(temp, one_hot_labels, epochs=10, batch_size=32)\n",
    "    return model"
   ]
  },
  {
   "cell_type": "code",
   "execution_count": 41,
   "metadata": {
    "collapsed": true
   },
   "outputs": [],
   "source": [
    "def test_cnn(model):\n",
    "    \n",
    "    test_model = get_feature_vectors(\"test\")\n",
    "#     print(test_model.shape)\n",
    "\n",
    "    test_X = numpy.copy(test_model[:, :no_of_columns])\n",
    "#     print(test_X.shape)\n",
    "\n",
    "    normalized_test_X = (test_X - mean) / std_deviation\n",
    "#     print(normalized_test_X.shape)\n",
    "\n",
    "    test_Y = numpy.copy(test_model[:, no_of_columns:])\n",
    "#     print(test_Y.shape)\n",
    "    test_labels = np_utils.to_categorical(test_Y, num_classes=10)\n",
    "    \n",
    "    test_X = test_X.reshape(test_X.shape[0], no_of_columns, 1)\n",
    "    normalized_test_X = normalized_test_X.reshape(normalized_test_X.shape[0], no_of_columns, 1)\n",
    "    \n",
    "    print(model.test_on_batch(test_X, test_labels, sample_weight=None))\n",
    "    print(model.metrics_names)\n",
    "    predictions = model.predict(test_X)\n",
    "\n",
    "    b = [sum(predictions[current: current+40]) for current in range(0, len(predictions), 40)]\n",
    "    predicted_Y = []\n",
    "    for row in b:\n",
    "        predicted_Y.append(row.argmax(axis=0))\n",
    "\n",
    "    # print(predicted_Y)\n",
    "    # print(test_Y[::40].T)\n",
    "\n",
    "    for t, p in zip(test_Y[::40].T[0], predicted_Y):\n",
    "       print (int(t), p)\n",
    "\n",
    "    diff = predicted_Y - test_Y[::40].T[0]\n",
    "\n",
    "    numerator = sum(x == 0 for x in diff)\n",
    "    denominator = len(predicted_Y)\n",
    "\n",
    "    print(\"{} of {}\".format(numerator, denominator))\n",
    "\n",
    "    print(\"Accuracy: {}\".format(numerator/denominator))"
   ]
  },
  {
   "cell_type": "code",
   "execution_count": 42,
   "metadata": {},
   "outputs": [
    {
     "name": "stdout",
     "output_type": "stream",
     "text": [
      "Epoch 1/10\n",
      "1200/1200 [==============================] - 2s 2ms/step - loss: 0.9372 - acc: 0.7675\n",
      "Epoch 2/10\n",
      "1200/1200 [==============================] - 1s 1ms/step - loss: 0.0907 - acc: 0.9783\n",
      "Epoch 3/10\n",
      "1200/1200 [==============================] - 1s 1ms/step - loss: 0.0408 - acc: 0.9900\n",
      "Epoch 4/10\n",
      "1200/1200 [==============================] - 2s 2ms/step - loss: 0.0203 - acc: 0.9983\n",
      "Epoch 5/10\n",
      "1200/1200 [==============================] - 2s 2ms/step - loss: 0.0147 - acc: 0.9983\n",
      "Epoch 6/10\n",
      "1200/1200 [==============================] - 1s 1ms/step - loss: 0.0124 - acc: 0.9983\n",
      "Epoch 7/10\n",
      "1200/1200 [==============================] - 2s 1ms/step - loss: 0.0072 - acc: 1.0000\n",
      "Epoch 8/10\n",
      "1200/1200 [==============================] - 2s 1ms/step - loss: 0.0087 - acc: 0.9992\n",
      "Epoch 9/10\n",
      "1200/1200 [==============================] - 2s 2ms/step - loss: 0.0057 - acc: 0.9992\n",
      "Epoch 10/10\n",
      "1200/1200 [==============================] - 2s 1ms/step - loss: 0.0050 - acc: 0.9992\n"
     ]
    },
    {
     "name": "stderr",
     "output_type": "stream",
     "text": [
      "WARNING:root:frame length (1103) is greater than FFT size (512), frame will be truncated. Increase NFFT to avoid.\n",
      "/home/rohan/anaconda3/lib/python3.6/site-packages/scipy/io/wavfile.py:273: WavFileWarning: Chunk (non-data) not understood, skipping it.\n",
      "  WavFileWarning)\n",
      "WARNING:root:frame length (1103) is greater than FFT size (512), frame will be truncated. Increase NFFT to avoid.\n",
      "WARNING:root:frame length (1103) is greater than FFT size (512), frame will be truncated. Increase NFFT to avoid.\n",
      "WARNING:root:frame length (1103) is greater than FFT size (512), frame will be truncated. Increase NFFT to avoid.\n",
      "WARNING:root:frame length (1103) is greater than FFT size (512), frame will be truncated. Increase NFFT to avoid.\n",
      "WARNING:root:frame length (1103) is greater than FFT size (512), frame will be truncated. Increase NFFT to avoid.\n",
      "WARNING:root:frame length (1103) is greater than FFT size (512), frame will be truncated. Increase NFFT to avoid.\n",
      "WARNING:root:frame length (1103) is greater than FFT size (512), frame will be truncated. Increase NFFT to avoid.\n",
      "WARNING:root:frame length (1103) is greater than FFT size (512), frame will be truncated. Increase NFFT to avoid.\n",
      "WARNING:root:frame length (1103) is greater than FFT size (512), frame will be truncated. Increase NFFT to avoid.\n",
      "WARNING:root:frame length (1103) is greater than FFT size (512), frame will be truncated. Increase NFFT to avoid.\n",
      "WARNING:root:frame length (1103) is greater than FFT size (512), frame will be truncated. Increase NFFT to avoid.\n"
     ]
    },
    {
     "name": "stdout",
     "output_type": "stream",
     "text": [
      "[array(1.189677119255066, dtype=float32), array(0.7950000166893005, dtype=float32)]\n",
      "['loss', 'acc']\n",
      "6 6\n",
      "7 7\n",
      "7 7\n",
      "6 7\n",
      "6 6\n",
      "7 7\n",
      "7 7\n",
      "6 6\n",
      "6 7\n",
      "8 8\n",
      "7 7\n",
      "7 7\n",
      "7 7\n",
      "8 8\n",
      "6 6\n",
      "7 7\n",
      "6 6\n",
      "6 6\n",
      "8 8\n",
      "8 8\n",
      "18 of 20\n",
      "Accuracy: 0.9\n"
     ]
    }
   ],
   "source": [
    "cnn_model = cnn_train()\n",
    "test_cnn(cnn_model)"
   ]
  },
  {
   "cell_type": "code",
   "execution_count": null,
   "metadata": {
    "collapsed": true,
    "scrolled": false
   },
   "outputs": [],
   "source": [
    "\n",
    "    \n",
    "# print(predicted_Y)\n",
    "# print(test_Y[::40].T)\n",
    "\n",
    "# for t, p in zip(test_Y[::40].T[0], predicted_Y):\n",
    "#     print (int(t), p)\n",
    "\n"
   ]
  },
  {
   "cell_type": "code",
   "execution_count": null,
   "metadata": {
    "collapsed": true,
    "scrolled": true
   },
   "outputs": [],
   "source": [
    "# majority\n",
    "\n",
    "# argmax_pred = numpy.argmax(predictions, axis=1)\n",
    "# argmax_pred = argmax_pred.reshape((-1, 25))\n",
    "\n",
    "# from scipy.stats import mode\n",
    "# argmax_pred = mode(argmax_pred, axis=-1)[0]\n",
    "\n",
    "# # print(argmax_pred)\n",
    "# # print(test_Y)\n",
    "\n",
    "# for t, p in zip(test_Y[::40].T[0], argmax_pred):\n",
    "#     print (int(t), p)"
   ]
  },
  {
   "cell_type": "code",
   "execution_count": null,
   "metadata": {
    "collapsed": true
   },
   "outputs": [],
   "source": [
    "# def find_majority(k):\n",
    "#     myMap = {}\n",
    "#     maximum = ( '', 0 ) # (occurring element, occurrences)\n",
    "#     for n in k:\n",
    "#         if n in myMap: myMap[n] += 1\n",
    "#         else: myMap[n] = 1\n",
    "\n",
    "#         # Keep track of maximum on the go\n",
    "#         if myMap[n] > maximum[1]: maximum = (n,myMap[n])\n",
    "\n",
    "#     return maximum"
   ]
  },
  {
   "cell_type": "code",
   "execution_count": null,
   "metadata": {
    "collapsed": true
   },
   "outputs": [],
   "source": []
  }
 ],
 "metadata": {
  "kernelspec": {
   "display_name": "Python 3",
   "language": "python",
   "name": "python3"
  },
  "language_info": {
   "codemirror_mode": {
    "name": "ipython",
    "version": 3
   },
   "file_extension": ".py",
   "mimetype": "text/x-python",
   "name": "python",
   "nbconvert_exporter": "python",
   "pygments_lexer": "ipython3",
   "version": "3.6.2"
  }
 },
 "nbformat": 4,
 "nbformat_minor": 2
}
