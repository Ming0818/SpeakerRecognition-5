{
 "cells": [
  {
   "cell_type": "code",
   "execution_count": 93,
   "metadata": {},
   "outputs": [],
   "source": [
    "import os\n",
    "\n",
    "from python_speech_features import mfcc\n",
    "from python_speech_features import delta\n",
    "from python_speech_features import logfbank\n",
    "import scipy.io.wavfile as wav\n",
    "from random import randint\n",
    "\n",
    "import tensorflow as tf\n",
    "import numpy as numpy"
   ]
  },
  {
   "cell_type": "code",
   "execution_count": 94,
   "metadata": {},
   "outputs": [],
   "source": [
    "def get_feature_vectors(dataset_type):\n",
    "    \n",
    "    #set parameters for training and testing\n",
    "    if (dataset_type == \"train\"):\n",
    "        directory = os.path.join(os.getcwd(), 'data_thuyg20_sre/enroll')\n",
    "        no_of_frames = 400\n",
    "    elif (dataset_type == \"test\"):    \n",
    "        directory = os.path.join(os.getcwd(), 'data_thuyg20_sre/test')\n",
    "        no_of_frames = 40\n",
    "    \n",
    "    dataset = numpy.empty([0, 40])\n",
    "    \n",
    "    for file in os.listdir(directory):\n",
    "        \n",
    "        # filter speakers\n",
    "        names = ['F101', 'F102', 'F103', 'F104', 'F105', 'M101', 'M102', 'M103', 'M104']\n",
    "\n",
    "        if any(name in file for name in names):\n",
    "            \n",
    "            # extract mfcc vectors\n",
    "            (rate,sig) = wav.read(os.path.join(directory, file))\n",
    "            mfcc_feat = mfcc(sig,rate)\n",
    "            d_mfcc_feat = delta(mfcc_feat, 2)\n",
    "            dd_mfcc_feat = delta(d_mfcc_feat, 2)\n",
    "            \n",
    "            #fbank_feat = logfbank(sig,rate)\n",
    "            mfcc_vectors = mfcc_feat[11:11+no_of_frames,:]\n",
    "            dmfcc_vectors = d_mfcc_feat[11:11+no_of_frames,:]\n",
    "            ddmfcc_vectors = dd_mfcc_feat[11:11+no_of_frames,:]\n",
    "            \n",
    "            feature_vectors = numpy.hstack((mfcc_vectors, dmfcc_vectors, ddmfcc_vectors))\n",
    "            #print(feature_vectors.shape)\n",
    "            \n",
    "            # get speaker index from filename\n",
    "            speaker_index = file.split(\"_\")[0]\n",
    "            if speaker_index[0] == 'M':\n",
    "                speaker_index = 5 + int(speaker_index[3:])\n",
    "            else:\n",
    "                speaker_index = int(speaker_index[3:])\n",
    "\n",
    "            #append speaker index to feature vectors\n",
    "            np_speaker_index = numpy.array([speaker_index])\n",
    "            temp = numpy.tile(np_speaker_index[numpy.newaxis,:], (feature_vectors.shape[0],1))\n",
    "            concatenated_feature_vector = numpy.concatenate((feature_vectors,temp), axis=1)\n",
    "            \n",
    "            #print(dataset.shape)\n",
    "            #print(concatenated_feature_vector.shape)\n",
    "            # append file's data to dataset\n",
    "            dataset = numpy.concatenate((dataset, concatenated_feature_vector), axis=0)\n",
    "            \n",
    "            \n",
    "\n",
    "    return dataset"
   ]
  },
  {
   "cell_type": "code",
   "execution_count": 95,
   "metadata": {},
   "outputs": [],
   "source": [
    "def get_feature_vectors_male(dataset_type):\n",
    "    \n",
    "    #set parameters for training and testing\n",
    "    if (dataset_type == \"train\"):\n",
    "        directory = os.path.join(os.getcwd(), 'data_thuyg20_sre/enroll')\n",
    "        no_of_frames = 400\n",
    "    elif (dataset_type == \"test\"):    \n",
    "        directory = os.path.join(os.getcwd(), 'data_thuyg20_sre/test')\n",
    "        no_of_frames = 40\n",
    "    \n",
    "    dataset = numpy.empty([0, 40])\n",
    "    \n",
    "    for file in os.listdir(directory):\n",
    "        \n",
    "        # filter speakers\n",
    "        names = ['M101', 'M102', 'M103', 'M104', 'M105', 'M106', 'M107', 'M108', 'M109']\n",
    "\n",
    "        if any(name in file for name in names):\n",
    "            \n",
    "            # extract mfcc vectors\n",
    "            (rate,sig) = wav.read(os.path.join(directory, file))\n",
    "            mfcc_feat = mfcc(sig,rate)\n",
    "            d_mfcc_feat = delta(mfcc_feat, 2)\n",
    "            dd_mfcc_feat = delta(d_mfcc_feat, 2)\n",
    "            \n",
    "            #fbank_feat = logfbank(sig,rate)\n",
    "            mfcc_vectors = mfcc_feat[11:11+no_of_frames,:]\n",
    "            dmfcc_vectors = d_mfcc_feat[11:11+no_of_frames,:]\n",
    "            ddmfcc_vectors = dd_mfcc_feat[11:11+no_of_frames,:]\n",
    "            \n",
    "            feature_vectors = numpy.hstack((mfcc_vectors, dmfcc_vectors, ddmfcc_vectors))\n",
    "            #print(feature_vectors.shape)\n",
    "            \n",
    "            # get speaker index from filename\n",
    "            speaker_index = file.split(\"_\")[0]\n",
    "            speaker_index = int(speaker_index[2:])\n",
    "\n",
    "            #append speaker index to feature vectors\n",
    "            np_speaker_index = numpy.array([speaker_index])\n",
    "            temp = numpy.tile(np_speaker_index[numpy.newaxis,:], (feature_vectors.shape[0],1))\n",
    "            concatenated_feature_vector = numpy.concatenate((feature_vectors,temp), axis=1)\n",
    "            \n",
    "            #print(dataset.shape)\n",
    "            #print(concatenated_feature_vector.shape)\n",
    "            # append file's data to dataset\n",
    "            dataset = numpy.concatenate((dataset, concatenated_feature_vector), axis=0)\n",
    "            \n",
    "            \n",
    "\n",
    "    return dataset"
   ]
  },
  {
   "cell_type": "code",
   "execution_count": 96,
   "metadata": {},
   "outputs": [],
   "source": [
    "def get_feature_vectors_female(dataset_type):\n",
    "    \n",
    "    #set parameters for training and testing\n",
    "    if (dataset_type == \"train\"):\n",
    "        directory = os.path.join(os.getcwd(), 'data_thuyg20_sre/enroll')\n",
    "        no_of_frames = 400\n",
    "    elif (dataset_type == \"test\"):    \n",
    "        directory = os.path.join(os.getcwd(), 'data_thuyg20_sre/test')\n",
    "        no_of_frames = 40\n",
    "    \n",
    "    dataset = numpy.empty([0, 40])\n",
    "    \n",
    "    for file in os.listdir(directory):\n",
    "        \n",
    "        # filter speakers\n",
    "        names = ['F101', 'F102', 'F103', 'F104', 'F105', 'F106', 'F107', 'F108', 'F109']\n",
    "\n",
    "        if any(name in file for name in names):\n",
    "            \n",
    "            # extract mfcc vectors\n",
    "            (rate,sig) = wav.read(os.path.join(directory, file))\n",
    "            mfcc_feat = mfcc(sig,rate)\n",
    "            d_mfcc_feat = delta(mfcc_feat, 2)\n",
    "            dd_mfcc_feat = delta(d_mfcc_feat, 2)\n",
    "            \n",
    "            #fbank_feat = logfbank(sig,rate)\n",
    "            mfcc_vectors = mfcc_feat[11:11+no_of_frames,:]\n",
    "            dmfcc_vectors = d_mfcc_feat[11:11+no_of_frames,:]\n",
    "            ddmfcc_vectors = dd_mfcc_feat[11:11+no_of_frames,:]\n",
    "            \n",
    "            feature_vectors = numpy.hstack((mfcc_vectors, dmfcc_vectors, ddmfcc_vectors))\n",
    "            #print(feature_vectors.shape)\n",
    "            \n",
    "            # get speaker index from filename\n",
    "            speaker_index = file.split(\"_\")[0]\n",
    "            speaker_index = int(speaker_index[2:])\n",
    "\n",
    "            #append speaker index to feature vectors\n",
    "            np_speaker_index = numpy.array([speaker_index])\n",
    "            temp = numpy.tile(np_speaker_index[numpy.newaxis,:], (feature_vectors.shape[0],1))\n",
    "            concatenated_feature_vector = numpy.concatenate((feature_vectors,temp), axis=1)\n",
    "            \n",
    "            #print(dataset.shape)\n",
    "            #print(concatenated_feature_vector.shape)\n",
    "            # append file's data to dataset\n",
    "            dataset = numpy.concatenate((dataset, concatenated_feature_vector), axis=0)\n",
    "            \n",
    "            \n",
    "\n",
    "    return dataset"
   ]
  },
  {
   "cell_type": "code",
   "execution_count": 97,
   "metadata": {},
   "outputs": [],
   "source": [
    "# from numpy import genfromtxt\n",
    "my_data = get_feature_vectors(\"train\")"
   ]
  },
  {
   "cell_type": "code",
   "execution_count": 98,
   "metadata": {},
   "outputs": [
    {
     "name": "stdout",
     "output_type": "stream",
     "text": [
      "(3600, 40)\n"
     ]
    }
   ],
   "source": [
    "# print(my_data)\n",
    "print(my_data.shape)"
   ]
  },
  {
   "cell_type": "code",
   "execution_count": 99,
   "metadata": {},
   "outputs": [
    {
     "name": "stdout",
     "output_type": "stream",
     "text": [
      "(3600, 1)\n"
     ]
    }
   ],
   "source": [
    "Y = numpy.copy(my_data[:, 39:])\n",
    "print(Y.shape)"
   ]
  },
  {
   "cell_type": "code",
   "execution_count": 100,
   "metadata": {},
   "outputs": [
    {
     "name": "stdout",
     "output_type": "stream",
     "text": [
      "(3600, 39)\n",
      "(1, 39)\n",
      "(1, 39)\n",
      "(3600, 39)\n"
     ]
    }
   ],
   "source": [
    "X = numpy.copy(my_data[:, :39])\n",
    "print(X.shape)\n",
    "mean = X.mean(0, keepdims=True)\n",
    "\n",
    "print(mean.shape)\n",
    "std_deviation = numpy.std(X, axis=0, keepdims=True)\n",
    "print(std_deviation.shape)\n",
    "\n",
    "normalized_X = (X - mean) / std_deviation\n",
    "print(normalized_X.shape)"
   ]
  },
  {
   "cell_type": "code",
   "execution_count": 101,
   "metadata": {},
   "outputs": [
    {
     "name": "stdout",
     "output_type": "stream",
     "text": [
      "(3600, 40)\n",
      "(3600, 39)\n",
      "(3600, 39)\n",
      "(3600, 1)\n"
     ]
    }
   ],
   "source": [
    "test_model = get_feature_vectors(\"test\")\n",
    "print(test_model.shape)\n",
    "\n",
    "test_X = numpy.copy(test_model[:, :39])\n",
    "print(test_X.shape)\n",
    "\n",
    "normalized_test_X = (test_X - mean) / std_deviation\n",
    "print(normalized_test_X.shape)\n",
    "\n",
    "test_Y = numpy.copy(test_model[:, 39:])\n",
    "print(test_Y.shape)"
   ]
  },
  {
   "cell_type": "code",
   "execution_count": 102,
   "metadata": {},
   "outputs": [],
   "source": [
    "from keras.models import Sequential\n",
    "from keras.layers import Dense, Dropout, Activation, Flatten\n",
    "from keras.layers import Convolution1D, MaxPooling1D\n",
    "from keras.utils import np_utils\n",
    "\n",
    "from matplotlib import pyplot as plt"
   ]
  },
  {
   "cell_type": "code",
   "execution_count": 103,
   "metadata": {},
   "outputs": [
    {
     "name": "stdout",
     "output_type": "stream",
     "text": [
      "(3600, 39)\n",
      "(3600, 10)\n"
     ]
    }
   ],
   "source": [
    "print(normalized_X.shape)\n",
    "test_X = test_X.reshape(test_X.shape[0], 39, 1)\n",
    "normalized_X = normalized_X.reshape(normalized_X.shape[0], 39, 1)\n",
    "normalized_test_X = normalized_test_X.reshape(normalized_test_X.shape[0], 39, 1)\n",
    "\n",
    "\n",
    "one_hot_labels = np_utils.to_categorical(Y, num_classes=10)\n",
    "print(one_hot_labels.shape)\n",
    "test_labels = np_utils.to_categorical(test_Y, num_classes=10)"
   ]
  },
  {
   "cell_type": "code",
   "execution_count": 109,
   "metadata": {},
   "outputs": [
    {
     "name": "stdout",
     "output_type": "stream",
     "text": [
      "Epoch 1/10\n",
      "3600/3600 [==============================] - 2s 661us/step - loss: 2.0740 - acc: 0.2392\n",
      "Epoch 2/10\n",
      "3600/3600 [==============================] - 1s 348us/step - loss: 1.5707 - acc: 0.4414\n",
      "Epoch 3/10\n",
      "3600/3600 [==============================] - 1s 347us/step - loss: 1.2976 - acc: 0.5397\n",
      "Epoch 4/10\n",
      "3600/3600 [==============================] - 1s 331us/step - loss: 1.1089 - acc: 0.6058\n",
      "Epoch 5/10\n",
      "3600/3600 [==============================] - 1s 370us/step - loss: 0.9917 - acc: 0.6531\n",
      "Epoch 6/10\n",
      "3600/3600 [==============================] - 1s 391us/step - loss: 0.8739 - acc: 0.6981\n",
      "Epoch 7/10\n",
      "3600/3600 [==============================] - 1s 358us/step - loss: 0.7925 - acc: 0.7231\n",
      "Epoch 8/10\n",
      "3600/3600 [==============================] - 1s 350us/step - loss: 0.7233 - acc: 0.7447\n",
      "Epoch 9/10\n",
      "3600/3600 [==============================] - 1s 377us/step - loss: 0.6642 - acc: 0.7700\n",
      "Epoch 10/10\n",
      "3600/3600 [==============================] - 1s 353us/step - loss: 0.6070 - acc: 0.7872\n"
     ]
    },
    {
     "data": {
      "text/plain": [
       "<keras.callbacks.History at 0x7ff299d05198>"
      ]
     },
     "execution_count": 109,
     "metadata": {},
     "output_type": "execute_result"
    }
   ],
   "source": [
    "model = Sequential()\n",
    "\n",
    "model.add(Convolution1D(32, 13, activation='relu', input_shape=(39,1)))\n",
    "model.add(Convolution1D(32, 1, activation='relu'))\n",
    "\n",
    "model.add(MaxPooling1D(pool_size=(1)))\n",
    "model.add(Dropout(0.25))\n",
    "model.add(Flatten())\n",
    "model.add(Dense(128, activation='relu'))\n",
    "model.add(Dropout(0.5))\n",
    "model.add(Dense(10, activation='softmax'))\n",
    "\n",
    "model.compile(loss='categorical_crossentropy', optimizer='adam', metrics=['accuracy'])\n",
    "\n",
    "model.fit(normalized_X, one_hot_labels, epochs=10, batch_size=32)"
   ]
  },
  {
   "cell_type": "code",
   "execution_count": 110,
   "metadata": {},
   "outputs": [
    {
     "name": "stdout",
     "output_type": "stream",
     "text": [
      "[7.5836782, 0.45944443]\n",
      "['loss', 'acc']\n",
      "6 3\n",
      "1 1\n",
      "9 9\n",
      "7 7\n",
      "5 3\n",
      "9 9\n",
      "7 7\n",
      "3 3\n",
      "3 9\n",
      "2 5\n",
      "4 1\n",
      "1 3\n",
      "9 9\n",
      "9 9\n",
      "9 9\n",
      "7 3\n",
      "4 4\n",
      "4 3\n",
      "4 2\n",
      "1 1\n",
      "6 9\n",
      "5 7\n",
      "5 3\n",
      "1 1\n",
      "2 2\n",
      "4 1\n",
      "6 6\n",
      "9 9\n",
      "6 3\n",
      "8 5\n",
      "9 9\n",
      "1 1\n",
      "4 4\n",
      "9 9\n",
      "9 3\n",
      "3 3\n",
      "3 3\n",
      "4 1\n",
      "2 4\n",
      "1 1\n",
      "2 3\n",
      "7 7\n",
      "9 3\n",
      "9 9\n",
      "5 1\n",
      "3 3\n",
      "9 9\n",
      "9 9\n",
      "9 9\n",
      "1 3\n",
      "3 3\n",
      "9 9\n",
      "1 1\n",
      "1 1\n",
      "1 3\n",
      "3 3\n",
      "5 5\n",
      "9 9\n",
      "5 5\n",
      "1 1\n",
      "1 1\n",
      "5 3\n",
      "9 9\n",
      "9 9\n",
      "7 5\n",
      "4 4\n",
      "7 7\n",
      "8 5\n",
      "3 3\n",
      "5 3\n",
      "1 1\n",
      "5 3\n",
      "9 9\n",
      "1 3\n",
      "1 1\n",
      "6 6\n",
      "1 1\n",
      "5 1\n",
      "3 3\n",
      "1 1\n",
      "3 3\n",
      "5 1\n",
      "4 7\n",
      "3 3\n",
      "6 3\n",
      "4 1\n",
      "3 1\n",
      "5 5\n",
      "6 7\n",
      "9 9\n",
      "54 of 90\n",
      "Accuracy: 0.6\n"
     ]
    }
   ],
   "source": [
    "print(model.test_on_batch(test_X, test_labels, sample_weight=None))\n",
    "print(model.metrics_names)\n",
    "predictions = model.predict(test_X)\n",
    "\n",
    "b = [sum(predictions[current: current+40]) for current in range(0, len(predictions), 40)]\n",
    "predicted_Y = []\n",
    "for row in b:\n",
    "    predicted_Y.append(row.argmax(axis=0))\n",
    "    \n",
    "# print(predicted_Y)\n",
    "# print(test_Y[::40].T)\n",
    "\n",
    "for t, p in zip(test_Y[::40].T[0], predicted_Y):\n",
    "    print (int(t), p)\n",
    "\n",
    "diff = predicted_Y - test_Y[::40].T[0]\n",
    "\n",
    "numerator = sum(x == 0 for x in diff)\n",
    "denominator = len(predicted_Y)\n",
    "\n",
    "print(\"{} of {}\".format(numerator, denominator))\n",
    "\n",
    "print(\"Accuracy: {}\".format(numerator/denominator))"
   ]
  },
  {
   "cell_type": "code",
   "execution_count": null,
   "metadata": {},
   "outputs": [],
   "source": []
  }
 ],
 "metadata": {
  "kernelspec": {
   "display_name": "Python 3",
   "language": "python",
   "name": "python3"
  },
  "language_info": {
   "codemirror_mode": {
    "name": "ipython",
    "version": 3
   },
   "file_extension": ".py",
   "mimetype": "text/x-python",
   "name": "python",
   "nbconvert_exporter": "python",
   "pygments_lexer": "ipython3",
   "version": "3.6.2"
  }
 },
 "nbformat": 4,
 "nbformat_minor": 2
}
